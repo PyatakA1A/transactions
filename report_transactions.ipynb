{
 "cells": [
  {
   "cell_type": "markdown",
   "metadata": {},
   "source": [
    "ссылка на датасет https://www.kaggle.com/datasets/ealaxi/paysim1"
   ]
  },
  {
   "cell_type": "markdown",
   "metadata": {},
   "source": [
    "Цель: Проанализировать транзакции, чтобы выявить паттерны поведения клиентов и признаки мошенничества. \n",
    "Понять, как клиенты используют банковские услуги, чтобы оптимизировать процессы и улучшить клиентский опыт.\n",
    "Определить характеристики транзакций, связанные с мошенничеством, чтобы минимизировать финансовые потери"
   ]
  },
  {
   "cell_type": "markdown",
   "metadata": {},
   "source": [
    "Описание структуры набора данных\n",
    "step: временной шаг.\n",
    "type: тип транзакции (CASH_IN, CASH_OUT, DEBIT, PAYMENT, TRANSFER).\n",
    "amount: сумма транзакции.\n",
    "nameOrig: ID клиента-отправителя.\n",
    "oldbalanceOrg: баланс отправителя до транзакции.\n",
    "newbalanceOrig: баланс отправителя после.\n",
    "nameDest: ID получателя.\n",
    "oldbalanceDest: баланс получателя до.\n",
    "newbalanceDest: баланс получателя после.\n",
    "isFraud: метка мошенничества (1 — да, 0 — нет).\n",
    "isFlaggedFraud: флаг, если система пометила как подозрительное."
   ]
  },
  {
   "cell_type": "markdown",
   "metadata": {},
   "source": [
    "Импорт библиотек"
   ]
  },
  {
   "cell_type": "code",
   "execution_count": null,
   "metadata": {},
   "outputs": [],
   "source": [
    "import pandas as pd\n",
    "import numpy as np\n",
    "import psycopg2\n",
    "import matplotlib.pyplot as plt\n",
    "import seaborn as sns"
   ]
  },
  {
   "cell_type": "markdown",
   "metadata": {},
   "source": [
    "Загрузка датасета и проверка структуры данных"
   ]
  },
  {
   "cell_type": "code",
   "execution_count": 2,
   "metadata": {},
   "outputs": [],
   "source": [
    "df = pd.read_csv(r\"data\\PS_20174392719_1491204439457_log.csv\", encoding = \"utf-8\")"
   ]
  },
  {
   "cell_type": "code",
   "execution_count": null,
   "metadata": {},
   "outputs": [],
   "source": [
    "# Параметры подключения к базе данных (PostgreSQL)\n",
    "conn = psycopg2.connect(\n",
    "    dbname=\"bank_transactions\",\n",
    "    user=\"postgres\", \n",
    "    password=\"wxC4\",  \n",
    "    host=\"localhost\",\n",
    "    port=\"5432\"\n",
    ")\n",
    "cursor = conn.cursor()"
   ]
  },
  {
   "cell_type": "code",
   "execution_count": null,
   "metadata": {},
   "outputs": [
    {
     "name": "stdout",
     "output_type": "stream",
     "text": [
      "<class 'pandas.core.frame.DataFrame'>\n",
      "RangeIndex: 6362620 entries, 0 to 6362619\n",
      "Data columns (total 11 columns):\n",
      " #   Column          Dtype  \n",
      "---  ------          -----  \n",
      " 0   step            int64  \n",
      " 1   type            object \n",
      " 2   amount          float64\n",
      " 3   nameOrig        object \n",
      " 4   oldbalanceOrg   float64\n",
      " 5   newbalanceOrig  float64\n",
      " 6   nameDest        object \n",
      " 7   oldbalanceDest  float64\n",
      " 8   newbalanceDest  float64\n",
      " 9   isFraud         int64  \n",
      " 10  isFlaggedFraud  int64  \n",
      "dtypes: float64(5), int64(3), object(3)\n",
      "memory usage: 534.0+ MB\n"
     ]
    }
   ],
   "source": [
    "df.info() #изучение общей информации-объем, типы данных"
   ]
  },
  {
   "cell_type": "code",
   "execution_count": null,
   "metadata": {},
   "outputs": [
    {
     "data": {
      "application/vnd.microsoft.datawrangler.viewer.v0+json": {
       "columns": [
        {
         "name": "index",
         "rawType": "int64",
         "type": "integer"
        },
        {
         "name": "step",
         "rawType": "int64",
         "type": "integer"
        },
        {
         "name": "type",
         "rawType": "object",
         "type": "string"
        },
        {
         "name": "amount",
         "rawType": "float64",
         "type": "float"
        },
        {
         "name": "nameOrig",
         "rawType": "object",
         "type": "string"
        },
        {
         "name": "oldbalanceOrg",
         "rawType": "float64",
         "type": "float"
        },
        {
         "name": "newbalanceOrig",
         "rawType": "float64",
         "type": "float"
        },
        {
         "name": "nameDest",
         "rawType": "object",
         "type": "string"
        },
        {
         "name": "oldbalanceDest",
         "rawType": "float64",
         "type": "float"
        },
        {
         "name": "newbalanceDest",
         "rawType": "float64",
         "type": "float"
        },
        {
         "name": "isFraud",
         "rawType": "int64",
         "type": "integer"
        },
        {
         "name": "isFlaggedFraud",
         "rawType": "int64",
         "type": "integer"
        }
       ],
       "conversionMethod": "pd.DataFrame",
       "ref": "f29e2370-ee9f-4ac7-83ac-48c294c02481",
       "rows": [
        [
         "0",
         "1",
         "PAYMENT",
         "9839.64",
         "C1231006815",
         "170136.0",
         "160296.36",
         "M1979787155",
         "0.0",
         "0.0",
         "0",
         "0"
        ],
        [
         "1",
         "1",
         "PAYMENT",
         "1864.28",
         "C1666544295",
         "21249.0",
         "19384.72",
         "M2044282225",
         "0.0",
         "0.0",
         "0",
         "0"
        ],
        [
         "2",
         "1",
         "TRANSFER",
         "181.0",
         "C1305486145",
         "181.0",
         "0.0",
         "C553264065",
         "0.0",
         "0.0",
         "1",
         "0"
        ],
        [
         "3",
         "1",
         "CASH_OUT",
         "181.0",
         "C840083671",
         "181.0",
         "0.0",
         "C38997010",
         "21182.0",
         "0.0",
         "1",
         "0"
        ],
        [
         "4",
         "1",
         "PAYMENT",
         "11668.14",
         "C2048537720",
         "41554.0",
         "29885.86",
         "M1230701703",
         "0.0",
         "0.0",
         "0",
         "0"
        ]
       ],
       "shape": {
        "columns": 11,
        "rows": 5
       }
      },
      "text/html": [
       "<div>\n",
       "<style scoped>\n",
       "    .dataframe tbody tr th:only-of-type {\n",
       "        vertical-align: middle;\n",
       "    }\n",
       "\n",
       "    .dataframe tbody tr th {\n",
       "        vertical-align: top;\n",
       "    }\n",
       "\n",
       "    .dataframe thead th {\n",
       "        text-align: right;\n",
       "    }\n",
       "</style>\n",
       "<table border=\"1\" class=\"dataframe\">\n",
       "  <thead>\n",
       "    <tr style=\"text-align: right;\">\n",
       "      <th></th>\n",
       "      <th>step</th>\n",
       "      <th>type</th>\n",
       "      <th>amount</th>\n",
       "      <th>nameOrig</th>\n",
       "      <th>oldbalanceOrg</th>\n",
       "      <th>newbalanceOrig</th>\n",
       "      <th>nameDest</th>\n",
       "      <th>oldbalanceDest</th>\n",
       "      <th>newbalanceDest</th>\n",
       "      <th>isFraud</th>\n",
       "      <th>isFlaggedFraud</th>\n",
       "    </tr>\n",
       "  </thead>\n",
       "  <tbody>\n",
       "    <tr>\n",
       "      <th>0</th>\n",
       "      <td>1</td>\n",
       "      <td>PAYMENT</td>\n",
       "      <td>9839.64</td>\n",
       "      <td>C1231006815</td>\n",
       "      <td>170136.0</td>\n",
       "      <td>160296.36</td>\n",
       "      <td>M1979787155</td>\n",
       "      <td>0.0</td>\n",
       "      <td>0.0</td>\n",
       "      <td>0</td>\n",
       "      <td>0</td>\n",
       "    </tr>\n",
       "    <tr>\n",
       "      <th>1</th>\n",
       "      <td>1</td>\n",
       "      <td>PAYMENT</td>\n",
       "      <td>1864.28</td>\n",
       "      <td>C1666544295</td>\n",
       "      <td>21249.0</td>\n",
       "      <td>19384.72</td>\n",
       "      <td>M2044282225</td>\n",
       "      <td>0.0</td>\n",
       "      <td>0.0</td>\n",
       "      <td>0</td>\n",
       "      <td>0</td>\n",
       "    </tr>\n",
       "    <tr>\n",
       "      <th>2</th>\n",
       "      <td>1</td>\n",
       "      <td>TRANSFER</td>\n",
       "      <td>181.00</td>\n",
       "      <td>C1305486145</td>\n",
       "      <td>181.0</td>\n",
       "      <td>0.00</td>\n",
       "      <td>C553264065</td>\n",
       "      <td>0.0</td>\n",
       "      <td>0.0</td>\n",
       "      <td>1</td>\n",
       "      <td>0</td>\n",
       "    </tr>\n",
       "    <tr>\n",
       "      <th>3</th>\n",
       "      <td>1</td>\n",
       "      <td>CASH_OUT</td>\n",
       "      <td>181.00</td>\n",
       "      <td>C840083671</td>\n",
       "      <td>181.0</td>\n",
       "      <td>0.00</td>\n",
       "      <td>C38997010</td>\n",
       "      <td>21182.0</td>\n",
       "      <td>0.0</td>\n",
       "      <td>1</td>\n",
       "      <td>0</td>\n",
       "    </tr>\n",
       "    <tr>\n",
       "      <th>4</th>\n",
       "      <td>1</td>\n",
       "      <td>PAYMENT</td>\n",
       "      <td>11668.14</td>\n",
       "      <td>C2048537720</td>\n",
       "      <td>41554.0</td>\n",
       "      <td>29885.86</td>\n",
       "      <td>M1230701703</td>\n",
       "      <td>0.0</td>\n",
       "      <td>0.0</td>\n",
       "      <td>0</td>\n",
       "      <td>0</td>\n",
       "    </tr>\n",
       "  </tbody>\n",
       "</table>\n",
       "</div>"
      ],
      "text/plain": [
       "   step      type    amount     nameOrig  oldbalanceOrg  newbalanceOrig  \\\n",
       "0     1   PAYMENT   9839.64  C1231006815       170136.0       160296.36   \n",
       "1     1   PAYMENT   1864.28  C1666544295        21249.0        19384.72   \n",
       "2     1  TRANSFER    181.00  C1305486145          181.0            0.00   \n",
       "3     1  CASH_OUT    181.00   C840083671          181.0            0.00   \n",
       "4     1   PAYMENT  11668.14  C2048537720        41554.0        29885.86   \n",
       "\n",
       "      nameDest  oldbalanceDest  newbalanceDest  isFraud  isFlaggedFraud  \n",
       "0  M1979787155             0.0             0.0        0               0  \n",
       "1  M2044282225             0.0             0.0        0               0  \n",
       "2   C553264065             0.0             0.0        1               0  \n",
       "3    C38997010         21182.0             0.0        1               0  \n",
       "4  M1230701703             0.0             0.0        0               0  "
      ]
     },
     "execution_count": 81,
     "metadata": {},
     "output_type": "execute_result"
    }
   ],
   "source": [
    "df.head() #просмотр данных"
   ]
  },
  {
   "cell_type": "code",
   "execution_count": null,
   "metadata": {},
   "outputs": [
    {
     "data": {
      "text/plain": [
       "Index(['step', 'type', 'amount', 'nameOrig', 'oldbalanceOrg', 'newbalanceOrig',\n",
       "       'nameDest', 'oldbalanceDest', 'newbalanceDest', 'isFraud',\n",
       "       'isFlaggedFraud'],\n",
       "      dtype='object')"
      ]
     },
     "execution_count": 29,
     "metadata": {},
     "output_type": "execute_result"
    }
   ],
   "source": [
    "df.columns #вывод атрибутов для описания структуры данных"
   ]
  },
  {
   "cell_type": "code",
   "execution_count": null,
   "metadata": {},
   "outputs": [
    {
     "data": {
      "text/plain": [
       "step              0\n",
       "type              0\n",
       "amount            0\n",
       "nameOrig          0\n",
       "oldbalanceOrg     0\n",
       "newbalanceOrig    0\n",
       "nameDest          0\n",
       "oldbalanceDest    0\n",
       "newbalanceDest    0\n",
       "isFraud           0\n",
       "isFlaggedFraud    0\n",
       "dtype: int64"
      ]
     },
     "execution_count": 82,
     "metadata": {},
     "output_type": "execute_result"
    }
   ],
   "source": [
    "df.isna().sum() #проверка на наличие пропусков"
   ]
  },
  {
   "cell_type": "markdown",
   "metadata": {},
   "source": [
    "создание и заполнение таблицы "
   ]
  },
  {
   "cell_type": "code",
   "execution_count": 23,
   "metadata": {},
   "outputs": [],
   "source": [
    "# create_table_query = \"\"\"\n",
    "# CREATE TABLE IF NOT EXISTS transactions (\n",
    "#     step INT,\n",
    "#     type VARCHAR(20),\n",
    "#     amount FLOAT,\n",
    "#     nameOrig VARCHAR(50),\n",
    "#     oldbalanceOrg FLOAT,\n",
    "#     newbalanceOrig FLOAT,\n",
    "#     nameDest VARCHAR(50),\n",
    "#     oldbalanceDest FLOAT,\n",
    "#     newbalanceDest FLOAT,\n",
    "#     isFraud INT,\n",
    "#     isFlaggedFraud INT\n",
    "# );\n",
    "# \"\"\"\n",
    "# cursor.execute(create_table_query)\n",
    "# conn.commit()"
   ]
  },
  {
   "cell_type": "code",
   "execution_count": null,
   "metadata": {},
   "outputs": [
    {
     "name": "stderr",
     "output_type": "stream",
     "text": [
      "<>:6: SyntaxWarning: invalid escape sequence '\\P'\n",
      "<>:6: SyntaxWarning: invalid escape sequence '\\P'\n",
      "C:\\Users\\Арина Алексеевна\\AppData\\Local\\Temp\\ipykernel_15060\\1474721226.py:6: SyntaxWarning: invalid escape sequence '\\P'\n",
      "  with open('data\\PS_20174392719_1491204439457_log.csv', 'r') as f:\n"
     ]
    },
    {
     "name": "stdout",
     "output_type": "stream",
     "text": [
      "Данные загружены\n"
     ]
    }
   ],
   "source": [
    "# conn = psycopg2.connect(dbname=\"bank_transactions\", user=\"postgres\", password=\"wxC4\", host=\"localhost\", port=\"5432\")\n",
    "# cursor = conn.cursor()\n",
    "\n",
    "# with open('data\\PS_20174392719_1491204439457_log.csv', 'r') as f:\n",
    "#     cursor.copy_expert(\"COPY transactions FROM STDIN WITH (FORMAT CSV, HEADER TRUE)\", f)\n",
    "\n",
    "# conn.commit()"
   ]
  },
  {
   "cell_type": "markdown",
   "metadata": {},
   "source": [
    "Так как целью анализа является :\n",
    "Понять, как клиенты используют банковские услуги, чтобы оптимизировать процессы и улучшить клиентский опыт, то необходимо определить операции с наибольшими денежными потоками, а также те операции, что по статистике наиболее\\наименее популярны"
   ]
  },
  {
   "cell_type": "markdown",
   "metadata": {},
   "source": [
    "**Подсчет типов транзакций и их сумм**"
   ]
  },
  {
   "cell_type": "markdown",
   "metadata": {},
   "source": [
    "Суммы транзакций показывают, какие операции связаны с большими потоками денег.\n",
    "Это поможет при анализе для выявления наиболее крупных по денежным потокам типов транзакций."
   ]
  },
  {
   "cell_type": "markdown",
   "metadata": {},
   "source": [
    "Запрос группирует транзакции по столбцу type и для каждого типа вычисляет:\n",
    "\n",
    "Количество транзакций (COUNT(*)): сколько раз встречается данный тип транзакции.\n",
    "Общая сумма транзакций (SUM(amount)): сумма всех транзакций данного типа.\n",
    "Результат сортируется по убыванию количества транзакций."
   ]
  },
  {
   "cell_type": "code",
   "execution_count": 24,
   "metadata": {},
   "outputs": [
    {
     "name": "stderr",
     "output_type": "stream",
     "text": [
      "C:\\Users\\Арина Алексеевна\\AppData\\Local\\Temp\\ipykernel_15060\\3045379852.py:7: UserWarning: pandas only supports SQLAlchemy connectable (engine/connection) or database string URI or sqlite3 DBAPI2 connection. Other DBAPI2 objects are not tested. Please consider using SQLAlchemy.\n",
      "  types_df = pd.read_sql(query1, conn)\n"
     ]
    },
    {
     "data": {
      "application/vnd.microsoft.datawrangler.viewer.v0+json": {
       "columns": [
        {
         "name": "index",
         "rawType": "int64",
         "type": "integer"
        },
        {
         "name": "type",
         "rawType": "object",
         "type": "string"
        },
        {
         "name": "count",
         "rawType": "int64",
         "type": "integer"
        },
        {
         "name": "total_amount",
         "rawType": "float64",
         "type": "float"
        }
       ],
       "conversionMethod": "pd.DataFrame",
       "ref": "b6c696fc-770b-4a49-b40d-4d4bbeca9959",
       "rows": [
        [
         "0",
         "CASH_OUT",
         "2237500",
         "394412995224.4945"
        ],
        [
         "1",
         "PAYMENT",
         "2151495",
         "28093371138.370167"
        ],
        [
         "2",
         "CASH_IN",
         "1399284",
         "236367391912.4585"
        ],
        [
         "3",
         "TRANSFER",
         "532909",
         "485291987263.17236"
        ],
        [
         "4",
         "DEBIT",
         "41432",
         "227199221.2800001"
        ]
       ],
       "shape": {
        "columns": 3,
        "rows": 5
       }
      },
      "text/html": [
       "<div>\n",
       "<style scoped>\n",
       "    .dataframe tbody tr th:only-of-type {\n",
       "        vertical-align: middle;\n",
       "    }\n",
       "\n",
       "    .dataframe tbody tr th {\n",
       "        vertical-align: top;\n",
       "    }\n",
       "\n",
       "    .dataframe thead th {\n",
       "        text-align: right;\n",
       "    }\n",
       "</style>\n",
       "<table border=\"1\" class=\"dataframe\">\n",
       "  <thead>\n",
       "    <tr style=\"text-align: right;\">\n",
       "      <th></th>\n",
       "      <th>type</th>\n",
       "      <th>count</th>\n",
       "      <th>total_amount</th>\n",
       "    </tr>\n",
       "  </thead>\n",
       "  <tbody>\n",
       "    <tr>\n",
       "      <th>0</th>\n",
       "      <td>CASH_OUT</td>\n",
       "      <td>2237500</td>\n",
       "      <td>3.944130e+11</td>\n",
       "    </tr>\n",
       "    <tr>\n",
       "      <th>1</th>\n",
       "      <td>PAYMENT</td>\n",
       "      <td>2151495</td>\n",
       "      <td>2.809337e+10</td>\n",
       "    </tr>\n",
       "    <tr>\n",
       "      <th>2</th>\n",
       "      <td>CASH_IN</td>\n",
       "      <td>1399284</td>\n",
       "      <td>2.363674e+11</td>\n",
       "    </tr>\n",
       "    <tr>\n",
       "      <th>3</th>\n",
       "      <td>TRANSFER</td>\n",
       "      <td>532909</td>\n",
       "      <td>4.852920e+11</td>\n",
       "    </tr>\n",
       "    <tr>\n",
       "      <th>4</th>\n",
       "      <td>DEBIT</td>\n",
       "      <td>41432</td>\n",
       "      <td>2.271992e+08</td>\n",
       "    </tr>\n",
       "  </tbody>\n",
       "</table>\n",
       "</div>"
      ],
      "text/plain": [
       "       type    count  total_amount\n",
       "0  CASH_OUT  2237500  3.944130e+11\n",
       "1   PAYMENT  2151495  2.809337e+10\n",
       "2   CASH_IN  1399284  2.363674e+11\n",
       "3  TRANSFER   532909  4.852920e+11\n",
       "4     DEBIT    41432  2.271992e+08"
      ]
     },
     "execution_count": 24,
     "metadata": {},
     "output_type": "execute_result"
    }
   ],
   "source": [
    "query1 = \"\"\"\n",
    "SELECT type, COUNT(*) as count, SUM(amount) as total_amount\n",
    "FROM transactions\n",
    "GROUP BY type\n",
    "ORDER BY count DESC;\n",
    "\"\"\"\n",
    "types_df = pd.read_sql(query1, conn)\n",
    "types_df"
   ]
  },
  {
   "cell_type": "markdown",
   "metadata": {},
   "source": [
    "Визуализация транзакций по типам"
   ]
  },
  {
   "cell_type": "code",
   "execution_count": null,
   "metadata": {},
   "outputs": [
    {
     "data": {
      "image/png": "[encoded data removed]",
      "text/plain": [
       "<Figure size 1000x600 with 1 Axes>"
      ]
     },
     "metadata": {},
     "output_type": "display_data"
    }
   ],
   "source": [
    "plt.figure(figsize=(10, 6))\n",
    "sns.barplot(x='type', y='count', data=types_df)\n",
    "plt.title('Распределение транзакций по типам')\n",
    "plt.xlabel('Тип транзакции')\n",
    "plt.ylabel('Количество')\n",
    "plt.show()"
   ]
  },
  {
   "cell_type": "markdown",
   "metadata": {},
   "source": [
    "Этот запрос предоставляет базовую статистику о распределении транзакций по типам.\n",
    "Позволяет увидеть, какие типы транзакций наиболее распространены (по количеству).\n",
    "Показывает, какие типы транзакций связаны с наибольшими суммами денег.\n",
    "## \n",
    "Выявление паттернов поведения клиентов:\n",
    "Наиболее распространенные по количеству операции - CASH_OUT И PAYMENT.\n",
    "Наименее распротсраненная - DEBIT, что говорит о низкой популярности автосписания\n",
    "\n",
    "Наиболее большая сумма у типа транзакции TRANSFER \n",
    "\n",
    "Большое количество CASH_OUT (2,2 млн ~ 35%) может указывать на высокий спрос на наличные средства. Но также является фактором риска мошеничества.\n",
    "Наибольшая сумма TRANSFER (хоть и с меньшим количеством) — на крупные переводы между счетами.\n",
    "\n",
    "\n",
    "Рекомендации:\n",
    "Бузопасность - позволяет выявить типы транзакций с наибольшей суммой, что поможет увеличить мониторинг для контроля мошеничества.\n",
    "Увеличить доход банка - повысить комиссии за крупные суммы переводов (TRANSFER)\n",
    "\n",
    "Персонализировать услуги - Предложить премиум-счета клиентам с крупными переводами, увеличивая лояльность и доход.\n",
    "Если PAYMENT так распространен, можно улучшить инфраструктуру для мелких платежей (например снизить комиссии).\n",
    "\n"
   ]
  },
  {
   "cell_type": "markdown",
   "metadata": {},
   "source": [
    "\n",
    "Связь с мошенничеством:\n",
    "Видно, что TRANSFER составляет всего около 10% транзакций, но имеет огромные суммы, что делает его подозрительным.\n",
    "Если позже будет выявлено, что 90% мошеннических транзакций — это TRANSFER, это будет значимым сигналом, так как TRANSFER не доминирует по количеству.\n",
    "\n",
    "\n",
    "Фильтрация для углубленного анализа:\n",
    "можно отдельно изучить CASH_OUT и TRANSFER, так как они связаны с большими суммами и потенциально с мошенничеством."
   ]
  },
  {
   "cell_type": "code",
   "execution_count": null,
   "metadata": {},
   "outputs": [],
   "source": [
    "query3 = \"\"\"\n",
    "SELECT step, SUM(amount) as total_amount\n",
    "FROM transactions\n",
    "GROUP BY step\n",
    "ORDER BY step;\n",
    "\"\"\"\n",
    "time_trend = pd.read_sql(query3, conn)\n",
    "\n",
    "plt.figure(figsize=(12, 6))\n",
    "plt.plot(time_trend['step'], time_trend['total_amount'])\n",
    "plt.title('Объем транзакций по времени')\n",
    "plt.xlabel('Шаг времени')\n",
    "plt.ylabel('Сумма')\n",
    "plt.savefig('time_trend.png')\n",
    "plt.show()"
   ]
  },
  {
   "cell_type": "code",
   "execution_count": 56,
   "metadata": {},
   "outputs": [
    {
     "name": "stderr",
     "output_type": "stream",
     "text": [
      "C:\\Users\\Арина Алексеевна\\AppData\\Local\\Temp\\ipykernel_15060\\2825326718.py:5: UserWarning: pandas only supports SQLAlchemy connectable (engine/connection) or database string URI or sqlite3 DBAPI2 connection. Other DBAPI2 objects are not tested. Please consider using SQLAlchemy.\n",
      "  d = pd.read_sql(q, conn)\n"
     ]
    },
    {
     "data": {
      "application/vnd.microsoft.datawrangler.viewer.v0+json": {
       "columns": [
        {
         "name": "index",
         "rawType": "int64",
         "type": "integer"
        },
        {
         "name": "type",
         "rawType": "object",
         "type": "string"
        },
        {
         "name": "fraud_count",
         "rawType": "int64",
         "type": "integer"
        },
        {
         "name": "avg_amount",
         "rawType": "float64",
         "type": "float"
        }
       ],
       "conversionMethod": "pd.DataFrame",
       "ref": "3abe8916-01a9-4bbe-9be9-05bb54675abd",
       "rows": [
        [
         "0",
         "CASH_OUT",
         "4116",
         "1455102.5859645286"
        ],
        [
         "1",
         "TRANSFER",
         "4097",
         "1480891.6729338542"
        ]
       ],
       "shape": {
        "columns": 3,
        "rows": 2
       }
      },
      "text/html": [
       "<div>\n",
       "<style scoped>\n",
       "    .dataframe tbody tr th:only-of-type {\n",
       "        vertical-align: middle;\n",
       "    }\n",
       "\n",
       "    .dataframe tbody tr th {\n",
       "        vertical-align: top;\n",
       "    }\n",
       "\n",
       "    .dataframe thead th {\n",
       "        text-align: right;\n",
       "    }\n",
       "</style>\n",
       "<table border=\"1\" class=\"dataframe\">\n",
       "  <thead>\n",
       "    <tr style=\"text-align: right;\">\n",
       "      <th></th>\n",
       "      <th>type</th>\n",
       "      <th>fraud_count</th>\n",
       "      <th>avg_amount</th>\n",
       "    </tr>\n",
       "  </thead>\n",
       "  <tbody>\n",
       "    <tr>\n",
       "      <th>0</th>\n",
       "      <td>CASH_OUT</td>\n",
       "      <td>4116</td>\n",
       "      <td>1.455103e+06</td>\n",
       "    </tr>\n",
       "    <tr>\n",
       "      <th>1</th>\n",
       "      <td>TRANSFER</td>\n",
       "      <td>4097</td>\n",
       "      <td>1.480892e+06</td>\n",
       "    </tr>\n",
       "  </tbody>\n",
       "</table>\n",
       "</div>"
      ],
      "text/plain": [
       "       type  fraud_count    avg_amount\n",
       "0  CASH_OUT         4116  1.455103e+06\n",
       "1  TRANSFER         4097  1.480892e+06"
      ]
     },
     "execution_count": 56,
     "metadata": {},
     "output_type": "execute_result"
    }
   ],
   "source": [
    "q='''SELECT type, COUNT(*) as fraud_count, AVG(amount) as avg_amount\n",
    "FROM transactions\n",
    "WHERE \"isFraud\" = 1\n",
    "GROUP BY type;'''\n",
    "d = pd.read_sql(q, conn)\n",
    "d"
   ]
  },
  {
   "cell_type": "markdown",
   "metadata": {},
   "source": [
    "Исходя из сводной таблицы, можно подтвердить гипотезу о возможных мошеничествах при типах транзакций CASH_OUT И TRANSFER, так как значение 1 по столбцу isFraud."
   ]
  },
  {
   "cell_type": "code",
   "execution_count": 57,
   "metadata": {},
   "outputs": [
    {
     "name": "stderr",
     "output_type": "stream",
     "text": [
      "C:\\Users\\Арина Алексеевна\\AppData\\Local\\Temp\\ipykernel_15060\\2943940926.py:7: UserWarning: pandas only supports SQLAlchemy connectable (engine/connection) or database string URI or sqlite3 DBAPI2 connection. Other DBAPI2 objects are not tested. Please consider using SQLAlchemy.\n",
      "  pd.read_sql(q2,conn)\n"
     ]
    },
    {
     "data": {
      "application/vnd.microsoft.datawrangler.viewer.v0+json": {
       "columns": [
        {
         "name": "index",
         "rawType": "int64",
         "type": "integer"
        },
        {
         "name": "type",
         "rawType": "object",
         "type": "string"
        },
        {
         "name": "high_amount_fraud",
         "rawType": "int64",
         "type": "integer"
        },
        {
         "name": "total_fraud",
         "rawType": "int64",
         "type": "integer"
        }
       ],
       "conversionMethod": "pd.DataFrame",
       "ref": "8efa6484-da25-4bba-b5af-8795ee3f99a9",
       "rows": [
        [
         "0",
         "CASH_OUT",
         "1345",
         "4116"
        ],
        [
         "1",
         "TRANSFER",
         "1361",
         "4097"
        ]
       ],
       "shape": {
        "columns": 3,
        "rows": 2
       }
      },
      "text/html": [
       "<div>\n",
       "<style scoped>\n",
       "    .dataframe tbody tr th:only-of-type {\n",
       "        vertical-align: middle;\n",
       "    }\n",
       "\n",
       "    .dataframe tbody tr th {\n",
       "        vertical-align: top;\n",
       "    }\n",
       "\n",
       "    .dataframe thead th {\n",
       "        text-align: right;\n",
       "    }\n",
       "</style>\n",
       "<table border=\"1\" class=\"dataframe\">\n",
       "  <thead>\n",
       "    <tr style=\"text-align: right;\">\n",
       "      <th></th>\n",
       "      <th>type</th>\n",
       "      <th>high_amount_fraud</th>\n",
       "      <th>total_fraud</th>\n",
       "    </tr>\n",
       "  </thead>\n",
       "  <tbody>\n",
       "    <tr>\n",
       "      <th>0</th>\n",
       "      <td>CASH_OUT</td>\n",
       "      <td>1345</td>\n",
       "      <td>4116</td>\n",
       "    </tr>\n",
       "    <tr>\n",
       "      <th>1</th>\n",
       "      <td>TRANSFER</td>\n",
       "      <td>1361</td>\n",
       "      <td>4097</td>\n",
       "    </tr>\n",
       "  </tbody>\n",
       "</table>\n",
       "</div>"
      ],
      "text/plain": [
       "       type  high_amount_fraud  total_fraud\n",
       "0  CASH_OUT               1345         4116\n",
       "1  TRANSFER               1361         4097"
      ]
     },
     "execution_count": 57,
     "metadata": {},
     "output_type": "execute_result"
    }
   ],
   "source": [
    "q2='''SELECT type, \n",
    "       COUNT(*) FILTER (WHERE amount > 1000000) as high_amount_fraud,\n",
    "       COUNT(*) as total_fraud\n",
    "FROM transactions\n",
    "WHERE \"isFraud\" = 1\n",
    "GROUP BY type;'''\n",
    "pd.read_sql(q2,conn)"
   ]
  },
  {
   "cell_type": "markdown",
   "metadata": {},
   "source": [
    "Количество транзакций с суммой более 1млн составляет примерно 30% от количества транзакций по типам. \n",
    "Чтобы снизить риск крупных мошенечиских операций, можно предложить оповещение службы безопасности при переводах более 500 000"
   ]
  },
  {
   "cell_type": "code",
   "execution_count": 65,
   "metadata": {},
   "outputs": [
    {
     "name": "stderr",
     "output_type": "stream",
     "text": [
      "C:\\Users\\Арина Алексеевна\\AppData\\Local\\Temp\\ipykernel_15060\\1600729629.py:3: UserWarning: pandas only supports SQLAlchemy connectable (engine/connection) or database string URI or sqlite3 DBAPI2 connection. Other DBAPI2 objects are not tested. Please consider using SQLAlchemy.\n",
      "  isFraud = pd.read_sql(q3,conn)\n"
     ]
    },
    {
     "data": {
      "application/vnd.microsoft.datawrangler.viewer.v0+json": {
       "columns": [
        {
         "name": "index",
         "rawType": "int64",
         "type": "integer"
        },
        {
         "name": "step",
         "rawType": "int64",
         "type": "integer"
        },
        {
         "name": "type",
         "rawType": "object",
         "type": "string"
        },
        {
         "name": "amount",
         "rawType": "float64",
         "type": "float"
        },
        {
         "name": "nameOrig",
         "rawType": "object",
         "type": "string"
        },
        {
         "name": "oldbalanceOrg",
         "rawType": "float64",
         "type": "float"
        },
        {
         "name": "newbalanceOrig",
         "rawType": "float64",
         "type": "float"
        },
        {
         "name": "nameDest",
         "rawType": "object",
         "type": "string"
        },
        {
         "name": "oldbalanceDest",
         "rawType": "float64",
         "type": "float"
        },
        {
         "name": "newbalanceDest",
         "rawType": "float64",
         "type": "float"
        },
        {
         "name": "isFraud",
         "rawType": "int64",
         "type": "integer"
        },
        {
         "name": "isFlaggedFraud",
         "rawType": "int64",
         "type": "integer"
        }
       ],
       "conversionMethod": "pd.DataFrame",
       "ref": "c8f5b5c5-e0b3-4d87-9e10-5b89440b3a0f",
       "rows": [
        [
         "0",
         "631",
         "CASH_OUT",
         "10000000.0",
         "C256835090",
         "10000000.0",
         "0.0",
         "C1369253515",
         "1852708.45",
         "11852708.45",
         "1",
         "0"
        ],
        [
         "1",
         "456",
         "CASH_OUT",
         "10000000.0",
         "C1790414268",
         "10000000.0",
         "0.0",
         "C1595458981",
         "13098.64",
         "10013098.64",
         "1",
         "0"
        ],
        [
         "2",
         "730",
         "TRANSFER",
         "10000000.0",
         "C2140038573",
         "17316255.05",
         "17316255.05",
         "C1395467927",
         "0.0",
         "0.0",
         "1",
         "1"
        ],
        [
         "3",
         "730",
         "CASH_OUT",
         "10000000.0",
         "C2065498878",
         "10000000.0",
         "0.0",
         "C502437065",
         "819130.39",
         "10819130.39",
         "1",
         "0"
        ],
        [
         "4",
         "730",
         "TRANSFER",
         "10000000.0",
         "C476780134",
         "27316255.05",
         "17316255.05",
         "C1150932816",
         "0.0",
         "0.0",
         "1",
         "0"
        ],
        [
         "5",
         "730",
         "CASH_OUT",
         "10000000.0",
         "C315149365",
         "10000000.0",
         "0.0",
         "C574552283",
         "62895.13",
         "10062895.13",
         "1",
         "0"
        ],
        [
         "6",
         "730",
         "TRANSFER",
         "10000000.0",
         "C1277761503",
         "37316255.05",
         "27316255.05",
         "C500987951",
         "0.0",
         "0.0",
         "1",
         "0"
        ],
        [
         "7",
         "730",
         "CASH_OUT",
         "10000000.0",
         "C1868631555",
         "10000000.0",
         "0.0",
         "C1100933050",
         "0.0",
         "10000000.0",
         "1",
         "0"
        ],
        [
         "8",
         "730",
         "TRANSFER",
         "10000000.0",
         "C507645439",
         "47316255.05",
         "37316255.05",
         "C270374999",
         "0.0",
         "0.0",
         "1",
         "0"
        ],
        [
         "9",
         "387",
         "CASH_OUT",
         "10000000.0",
         "C99029817",
         "10000000.0",
         "0.0",
         "C428927923",
         "0.0",
         "10000000.0",
         "1",
         "0"
        ],
        [
         "10",
         "387",
         "TRANSFER",
         "10000000.0",
         "C1074619527",
         "19110884.44",
         "9110884.44",
         "C1334434319",
         "0.0",
         "0.0",
         "1",
         "0"
        ],
        [
         "11",
         "730",
         "CASH_OUT",
         "10000000.0",
         "C1700232450",
         "10000000.0",
         "0.0",
         "C125311108",
         "0.0",
         "10000000.0",
         "1",
         "0"
        ],
        [
         "12",
         "730",
         "TRANSFER",
         "10000000.0",
         "C726730575",
         "57316255.05",
         "47316255.05",
         "C1364745638",
         "0.0",
         "0.0",
         "1",
         "0"
        ],
        [
         "13",
         "387",
         "CASH_OUT",
         "10000000.0",
         "C1577275521",
         "10000000.0",
         "0.0",
         "C57886357",
         "148684.47",
         "10148684.47",
         "1",
         "0"
        ],
        [
         "14",
         "387",
         "TRANSFER",
         "10000000.0",
         "C373820487",
         "29110884.44",
         "19110884.44",
         "C839316822",
         "0.0",
         "0.0",
         "1",
         "0"
        ],
        [
         "15",
         "387",
         "CASH_OUT",
         "10000000.0",
         "C866227621",
         "10000000.0",
         "0.0",
         "C1759432374",
         "0.0",
         "10000000.0",
         "1",
         "0"
        ],
        [
         "16",
         "4",
         "TRANSFER",
         "10000000.0",
         "C7162498",
         "12930418.44",
         "2930418.44",
         "C945327594",
         "0.0",
         "0.0",
         "1",
         "0"
        ],
        [
         "17",
         "4",
         "CASH_OUT",
         "10000000.0",
         "C351297720",
         "10000000.0",
         "0.0",
         "C766681183",
         "0.0",
         "9941904.21",
         "1",
         "0"
        ],
        [
         "18",
         "387",
         "TRANSFER",
         "10000000.0",
         "C239857977",
         "14892193.09",
         "4892193.09",
         "C1021550383",
         "0.0",
         "0.0",
         "1",
         "0"
        ],
        [
         "19",
         "387",
         "CASH_OUT",
         "10000000.0",
         "C1036572575",
         "10000000.0",
         "0.0",
         "C469591174",
         "0.0",
         "10000000.0",
         "1",
         "0"
        ],
        [
         "20",
         "387",
         "TRANSFER",
         "10000000.0",
         "C1057439889",
         "24892193.09",
         "14892193.09",
         "C1973915590",
         "0.0",
         "0.0",
         "1",
         "0"
        ],
        [
         "21",
         "387",
         "CASH_OUT",
         "10000000.0",
         "C486804071",
         "10000000.0",
         "0.0",
         "C565255701",
         "109827.22",
         "10109827.22",
         "1",
         "0"
        ],
        [
         "22",
         "387",
         "TRANSFER",
         "10000000.0",
         "C1421664654",
         "34892193.09",
         "24892193.09",
         "C1036214683",
         "0.0",
         "0.0",
         "1",
         "0"
        ],
        [
         "23",
         "387",
         "CASH_OUT",
         "10000000.0",
         "C618976547",
         "10000000.0",
         "0.0",
         "C1908782637",
         "0.0",
         "10000000.0",
         "1",
         "0"
        ],
        [
         "24",
         "387",
         "TRANSFER",
         "10000000.0",
         "C576718894",
         "44892193.09",
         "34892193.09",
         "C673002421",
         "0.0",
         "0.0",
         "1",
         "0"
        ],
        [
         "25",
         "456",
         "TRANSFER",
         "10000000.0",
         "C1807237119",
         "10585396.14",
         "585396.14",
         "C1910239392",
         "0.0",
         "0.0",
         "1",
         "0"
        ],
        [
         "26",
         "386",
         "CASH_OUT",
         "10000000.0",
         "C165107915",
         "10000000.0",
         "0.0",
         "C265818322",
         "37732.12",
         "10037732.12",
         "1",
         "0"
        ],
        [
         "27",
         "386",
         "TRANSFER",
         "10000000.0",
         "C884104189",
         "11975271.77",
         "1975271.77",
         "C1648566106",
         "0.0",
         "0.0",
         "1",
         "0"
        ],
        [
         "28",
         "386",
         "CASH_OUT",
         "10000000.0",
         "C634268681",
         "10000000.0",
         "0.0",
         "C879312587",
         "1950323.28",
         "11950323.28",
         "1",
         "0"
        ],
        [
         "29",
         "386",
         "TRANSFER",
         "10000000.0",
         "C1499124218",
         "21975271.77",
         "11975271.77",
         "C430952051",
         "0.0",
         "0.0",
         "1",
         "0"
        ],
        [
         "30",
         "714",
         "CASH_OUT",
         "10000000.0",
         "C1440908860",
         "10000000.0",
         "0.0",
         "C1590217660",
         "377441.15",
         "10377441.15",
         "1",
         "0"
        ],
        [
         "31",
         "714",
         "TRANSFER",
         "10000000.0",
         "C131412689",
         "10390763.24",
         "390763.24",
         "C1846567377",
         "0.0",
         "0.0",
         "1",
         "0"
        ],
        [
         "32",
         "501",
         "TRANSFER",
         "10000000.0",
         "C50880393",
         "18020192.15",
         "8020192.15",
         "C590550775",
         "0.0",
         "0.0",
         "1",
         "0"
        ],
        [
         "33",
         "501",
         "CASH_OUT",
         "10000000.0",
         "C47972411",
         "10000000.0",
         "0.0",
         "C2059078386",
         "11656587.57",
         "21656587.57",
         "1",
         "0"
        ],
        [
         "34",
         "398",
         "TRANSFER",
         "10000000.0",
         "C14368419",
         "25618179.9",
         "15618179.9",
         "C1000868784",
         "0.0",
         "0.0",
         "1",
         "0"
        ],
        [
         "35",
         "398",
         "CASH_OUT",
         "10000000.0",
         "C2062946234",
         "10000000.0",
         "0.0",
         "C2129872070",
         "2246.43",
         "10002246.43",
         "1",
         "0"
        ],
        [
         "36",
         "398",
         "TRANSFER",
         "10000000.0",
         "C1577486244",
         "15618179.9",
         "5618179.9",
         "C6676578",
         "0.0",
         "0.0",
         "1",
         "0"
        ],
        [
         "37",
         "398",
         "CASH_OUT",
         "10000000.0",
         "C1046281837",
         "10000000.0",
         "0.0",
         "C193638063",
         "141403.34",
         "10141403.34",
         "1",
         "0"
        ],
        [
         "38",
         "357",
         "CASH_OUT",
         "10000000.0",
         "C1879989290",
         "10000000.0",
         "0.0",
         "C1527777046",
         "637693.12",
         "10637693.12",
         "1",
         "0"
        ],
        [
         "39",
         "357",
         "TRANSFER",
         "10000000.0",
         "C393177637",
         "10653151.55",
         "653151.55",
         "C106531078",
         "0.0",
         "0.0",
         "1",
         "0"
        ],
        [
         "40",
         "354",
         "CASH_OUT",
         "10000000.0",
         "C50848420",
         "10000000.0",
         "0.0",
         "C1732619349",
         "350562.51",
         "10350562.51",
         "1",
         "0"
        ],
        [
         "41",
         "680",
         "CASH_OUT",
         "10000000.0",
         "C2129111288",
         "10000000.0",
         "0.0",
         "C503344531",
         "128711.99",
         "10128711.99",
         "1",
         "0"
        ],
        [
         "42",
         "680",
         "TRANSFER",
         "10000000.0",
         "C23027348",
         "12651994.1",
         "2651994.1",
         "C1188014046",
         "0.0",
         "0.0",
         "1",
         "0"
        ],
        [
         "43",
         "354",
         "TRANSFER",
         "10000000.0",
         "C501435638",
         "19299230.13",
         "9299230.13",
         "C201807091",
         "0.0",
         "0.0",
         "1",
         "0"
        ],
        [
         "44",
         "680",
         "CASH_OUT",
         "10000000.0",
         "C466387318",
         "10000000.0",
         "0.0",
         "C1396306912",
         "0.0",
         "10000000.0",
         "1",
         "0"
        ],
        [
         "45",
         "680",
         "TRANSFER",
         "10000000.0",
         "C1396564541",
         "12254417.02",
         "2254417.02",
         "C129828249",
         "0.0",
         "0.0",
         "1",
         "0"
        ],
        [
         "46",
         "514",
         "TRANSFER",
         "10000000.0",
         "C642807002",
         "15912204.0",
         "5912204.0",
         "C177097272",
         "0.0",
         "0.0",
         "1",
         "0"
        ],
        [
         "47",
         "514",
         "CASH_OUT",
         "10000000.0",
         "C1274141620",
         "10000000.0",
         "0.0",
         "C743250798",
         "0.0",
         "10000000.0",
         "1",
         "0"
        ],
        [
         "48",
         "516",
         "TRANSFER",
         "10000000.0",
         "C315155195",
         "22625132.51",
         "12625132.51",
         "C224104774",
         "0.0",
         "0.0",
         "1",
         "0"
        ],
        [
         "49",
         "516",
         "CASH_OUT",
         "10000000.0",
         "C179123496",
         "10000000.0",
         "0.0",
         "C150091086",
         "6070888.2",
         "16070888.2",
         "1",
         "0"
        ]
       ],
       "shape": {
        "columns": 11,
        "rows": 8213
       }
      },
      "text/html": [
       "<div>\n",
       "<style scoped>\n",
       "    .dataframe tbody tr th:only-of-type {\n",
       "        vertical-align: middle;\n",
       "    }\n",
       "\n",
       "    .dataframe tbody tr th {\n",
       "        vertical-align: top;\n",
       "    }\n",
       "\n",
       "    .dataframe thead th {\n",
       "        text-align: right;\n",
       "    }\n",
       "</style>\n",
       "<table border=\"1\" class=\"dataframe\">\n",
       "  <thead>\n",
       "    <tr style=\"text-align: right;\">\n",
       "      <th></th>\n",
       "      <th>step</th>\n",
       "      <th>type</th>\n",
       "      <th>amount</th>\n",
       "      <th>nameOrig</th>\n",
       "      <th>oldbalanceOrg</th>\n",
       "      <th>newbalanceOrig</th>\n",
       "      <th>nameDest</th>\n",
       "      <th>oldbalanceDest</th>\n",
       "      <th>newbalanceDest</th>\n",
       "      <th>isFraud</th>\n",
       "      <th>isFlaggedFraud</th>\n",
       "    </tr>\n",
       "  </thead>\n",
       "  <tbody>\n",
       "    <tr>\n",
       "      <th>0</th>\n",
       "      <td>631</td>\n",
       "      <td>CASH_OUT</td>\n",
       "      <td>10000000.0</td>\n",
       "      <td>C256835090</td>\n",
       "      <td>10000000.00</td>\n",
       "      <td>0.00</td>\n",
       "      <td>C1369253515</td>\n",
       "      <td>1852708.45</td>\n",
       "      <td>11852708.45</td>\n",
       "      <td>1</td>\n",
       "      <td>0</td>\n",
       "    </tr>\n",
       "    <tr>\n",
       "      <th>1</th>\n",
       "      <td>456</td>\n",
       "      <td>CASH_OUT</td>\n",
       "      <td>10000000.0</td>\n",
       "      <td>C1790414268</td>\n",
       "      <td>10000000.00</td>\n",
       "      <td>0.00</td>\n",
       "      <td>C1595458981</td>\n",
       "      <td>13098.64</td>\n",
       "      <td>10013098.64</td>\n",
       "      <td>1</td>\n",
       "      <td>0</td>\n",
       "    </tr>\n",
       "    <tr>\n",
       "      <th>2</th>\n",
       "      <td>730</td>\n",
       "      <td>TRANSFER</td>\n",
       "      <td>10000000.0</td>\n",
       "      <td>C2140038573</td>\n",
       "      <td>17316255.05</td>\n",
       "      <td>17316255.05</td>\n",
       "      <td>C1395467927</td>\n",
       "      <td>0.00</td>\n",
       "      <td>0.00</td>\n",
       "      <td>1</td>\n",
       "      <td>1</td>\n",
       "    </tr>\n",
       "    <tr>\n",
       "      <th>3</th>\n",
       "      <td>730</td>\n",
       "      <td>CASH_OUT</td>\n",
       "      <td>10000000.0</td>\n",
       "      <td>C2065498878</td>\n",
       "      <td>10000000.00</td>\n",
       "      <td>0.00</td>\n",
       "      <td>C502437065</td>\n",
       "      <td>819130.39</td>\n",
       "      <td>10819130.39</td>\n",
       "      <td>1</td>\n",
       "      <td>0</td>\n",
       "    </tr>\n",
       "    <tr>\n",
       "      <th>4</th>\n",
       "      <td>730</td>\n",
       "      <td>TRANSFER</td>\n",
       "      <td>10000000.0</td>\n",
       "      <td>C476780134</td>\n",
       "      <td>27316255.05</td>\n",
       "      <td>17316255.05</td>\n",
       "      <td>C1150932816</td>\n",
       "      <td>0.00</td>\n",
       "      <td>0.00</td>\n",
       "      <td>1</td>\n",
       "      <td>0</td>\n",
       "    </tr>\n",
       "    <tr>\n",
       "      <th>...</th>\n",
       "      <td>...</td>\n",
       "      <td>...</td>\n",
       "      <td>...</td>\n",
       "      <td>...</td>\n",
       "      <td>...</td>\n",
       "      <td>...</td>\n",
       "      <td>...</td>\n",
       "      <td>...</td>\n",
       "      <td>...</td>\n",
       "      <td>...</td>\n",
       "      <td>...</td>\n",
       "    </tr>\n",
       "    <tr>\n",
       "      <th>8208</th>\n",
       "      <td>730</td>\n",
       "      <td>CASH_OUT</td>\n",
       "      <td>0.0</td>\n",
       "      <td>C729003789</td>\n",
       "      <td>0.00</td>\n",
       "      <td>0.00</td>\n",
       "      <td>C1388096959</td>\n",
       "      <td>1008609.53</td>\n",
       "      <td>1008609.53</td>\n",
       "      <td>1</td>\n",
       "      <td>0</td>\n",
       "    </tr>\n",
       "    <tr>\n",
       "      <th>8209</th>\n",
       "      <td>387</td>\n",
       "      <td>CASH_OUT</td>\n",
       "      <td>0.0</td>\n",
       "      <td>C1294472700</td>\n",
       "      <td>0.00</td>\n",
       "      <td>0.00</td>\n",
       "      <td>C1325541393</td>\n",
       "      <td>7970766.57</td>\n",
       "      <td>7970766.57</td>\n",
       "      <td>1</td>\n",
       "      <td>0</td>\n",
       "    </tr>\n",
       "    <tr>\n",
       "      <th>8210</th>\n",
       "      <td>730</td>\n",
       "      <td>CASH_OUT</td>\n",
       "      <td>0.0</td>\n",
       "      <td>C2088151490</td>\n",
       "      <td>0.00</td>\n",
       "      <td>0.00</td>\n",
       "      <td>C1156763710</td>\n",
       "      <td>0.00</td>\n",
       "      <td>0.00</td>\n",
       "      <td>1</td>\n",
       "      <td>0</td>\n",
       "    </tr>\n",
       "    <tr>\n",
       "      <th>8211</th>\n",
       "      <td>586</td>\n",
       "      <td>CASH_OUT</td>\n",
       "      <td>0.0</td>\n",
       "      <td>C1303719003</td>\n",
       "      <td>0.00</td>\n",
       "      <td>0.00</td>\n",
       "      <td>C900608348</td>\n",
       "      <td>1328472.86</td>\n",
       "      <td>1328472.86</td>\n",
       "      <td>1</td>\n",
       "      <td>0</td>\n",
       "    </tr>\n",
       "    <tr>\n",
       "      <th>8212</th>\n",
       "      <td>617</td>\n",
       "      <td>CASH_OUT</td>\n",
       "      <td>0.0</td>\n",
       "      <td>C1971175979</td>\n",
       "      <td>0.00</td>\n",
       "      <td>0.00</td>\n",
       "      <td>C1352345416</td>\n",
       "      <td>0.00</td>\n",
       "      <td>0.00</td>\n",
       "      <td>1</td>\n",
       "      <td>0</td>\n",
       "    </tr>\n",
       "  </tbody>\n",
       "</table>\n",
       "<p>8213 rows × 11 columns</p>\n",
       "</div>"
      ],
      "text/plain": [
       "      step      type      amount     nameOrig  oldbalanceOrg  newbalanceOrig  \\\n",
       "0      631  CASH_OUT  10000000.0   C256835090    10000000.00            0.00   \n",
       "1      456  CASH_OUT  10000000.0  C1790414268    10000000.00            0.00   \n",
       "2      730  TRANSFER  10000000.0  C2140038573    17316255.05     17316255.05   \n",
       "3      730  CASH_OUT  10000000.0  C2065498878    10000000.00            0.00   \n",
       "4      730  TRANSFER  10000000.0   C476780134    27316255.05     17316255.05   \n",
       "...    ...       ...         ...          ...            ...             ...   \n",
       "8208   730  CASH_OUT         0.0   C729003789           0.00            0.00   \n",
       "8209   387  CASH_OUT         0.0  C1294472700           0.00            0.00   \n",
       "8210   730  CASH_OUT         0.0  C2088151490           0.00            0.00   \n",
       "8211   586  CASH_OUT         0.0  C1303719003           0.00            0.00   \n",
       "8212   617  CASH_OUT         0.0  C1971175979           0.00            0.00   \n",
       "\n",
       "         nameDest  oldbalanceDest  newbalanceDest  isFraud  isFlaggedFraud  \n",
       "0     C1369253515      1852708.45     11852708.45        1               0  \n",
       "1     C1595458981        13098.64     10013098.64        1               0  \n",
       "2     C1395467927            0.00            0.00        1               1  \n",
       "3      C502437065       819130.39     10819130.39        1               0  \n",
       "4     C1150932816            0.00            0.00        1               0  \n",
       "...           ...             ...             ...      ...             ...  \n",
       "8208  C1388096959      1008609.53      1008609.53        1               0  \n",
       "8209  C1325541393      7970766.57      7970766.57        1               0  \n",
       "8210  C1156763710            0.00            0.00        1               0  \n",
       "8211   C900608348      1328472.86      1328472.86        1               0  \n",
       "8212  C1352345416            0.00            0.00        1               0  \n",
       "\n",
       "[8213 rows x 11 columns]"
      ]
     },
     "execution_count": 65,
     "metadata": {},
     "output_type": "execute_result"
    }
   ],
   "source": [
    "# Выборка транзакций с мошеничеством\n",
    "q3 = '''SELECT * FROM transactions WHERE \"isFraud\"=1 ORDER BY amount DESC'''\n",
    "isFraud = pd.read_sql(q3,conn)\n",
    "isFraud"
   ]
  },
  {
   "cell_type": "markdown",
   "metadata": {},
   "source": [
    "Видно, что большая часть транзакций = 1млн и замечены пики мошенечества в определенные периоды времени. Вывод о временных пиках можно сделать исходя из столбца step, где большая часть транзакций приходится на промежуток 300-500"
   ]
  },
  {
   "cell_type": "code",
   "execution_count": 68,
   "metadata": {},
   "outputs": [
    {
     "name": "stderr",
     "output_type": "stream",
     "text": [
      "C:\\Users\\Арина Алексеевна\\AppData\\Local\\Temp\\ipykernel_15060\\3458340248.py:6: UserWarning: pandas only supports SQLAlchemy connectable (engine/connection) or database string URI or sqlite3 DBAPI2 connection. Other DBAPI2 objects are not tested. Please consider using SQLAlchemy.\n",
      "  q4 = pd.read_sql(q4, conn)\n"
     ]
    },
    {
     "data": {
      "application/vnd.microsoft.datawrangler.viewer.v0+json": {
       "columns": [
        {
         "name": "index",
         "rawType": "int64",
         "type": "integer"
        },
        {
         "name": "isFraud",
         "rawType": "int64",
         "type": "integer"
        },
        {
         "name": "zero_balance_count",
         "rawType": "int64",
         "type": "integer"
        },
        {
         "name": "total_count",
         "rawType": "int64",
         "type": "integer"
        }
       ],
       "conversionMethod": "pd.DataFrame",
       "ref": "4fd326ba-37e9-4c81-817a-a7dcaae718ec",
       "rows": [
        [
         "0",
         "0",
         "3601513",
         "6354407"
        ],
        [
         "1",
         "1",
         "8053",
         "8213"
        ]
       ],
       "shape": {
        "columns": 3,
        "rows": 2
       }
      },
      "text/html": [
       "<div>\n",
       "<style scoped>\n",
       "    .dataframe tbody tr th:only-of-type {\n",
       "        vertical-align: middle;\n",
       "    }\n",
       "\n",
       "    .dataframe tbody tr th {\n",
       "        vertical-align: top;\n",
       "    }\n",
       "\n",
       "    .dataframe thead th {\n",
       "        text-align: right;\n",
       "    }\n",
       "</style>\n",
       "<table border=\"1\" class=\"dataframe\">\n",
       "  <thead>\n",
       "    <tr style=\"text-align: right;\">\n",
       "      <th></th>\n",
       "      <th>isFraud</th>\n",
       "      <th>zero_balance_count</th>\n",
       "      <th>total_count</th>\n",
       "    </tr>\n",
       "  </thead>\n",
       "  <tbody>\n",
       "    <tr>\n",
       "      <th>0</th>\n",
       "      <td>0</td>\n",
       "      <td>3601513</td>\n",
       "      <td>6354407</td>\n",
       "    </tr>\n",
       "    <tr>\n",
       "      <th>1</th>\n",
       "      <td>1</td>\n",
       "      <td>8053</td>\n",
       "      <td>8213</td>\n",
       "    </tr>\n",
       "  </tbody>\n",
       "</table>\n",
       "</div>"
      ],
      "text/plain": [
       "   isFraud  zero_balance_count  total_count\n",
       "0        0             3601513      6354407\n",
       "1        1                8053         8213"
      ]
     },
     "execution_count": 68,
     "metadata": {},
     "output_type": "execute_result"
    }
   ],
   "source": [
    "q4 = '''SELECT \"isFraud\", \n",
    "       COUNT(*) FILTER (WHERE \"newbalanceOrig\" = 0) as zero_balance_count,\n",
    "       COUNT(*) as total_count\n",
    "FROM transactions\n",
    "GROUP BY \"isFraud\";'''\n",
    "q4 = pd.read_sql(q4, conn)\n",
    "q4"
   ]
  },
  {
   "cell_type": "markdown",
   "metadata": {},
   "source": [
    "В более 50% случаях мошенических транзакций баланс отправителя обнуляется"
   ]
  },
  {
   "cell_type": "markdown",
   "metadata": {},
   "source": [
    "Можно выдвинуть гипотезу о том, что изменение баланса получателя коррелирует с мошеничеством"
   ]
  },
  {
   "cell_type": "code",
   "execution_count": 72,
   "metadata": {},
   "outputs": [
    {
     "name": "stderr",
     "output_type": "stream",
     "text": [
      "C:\\Users\\Арина Алексеевна\\AppData\\Local\\Temp\\ipykernel_15060\\824299539.py:4: UserWarning: pandas only supports SQLAlchemy connectable (engine/connection) or database string URI or sqlite3 DBAPI2 connection. Other DBAPI2 objects are not tested. Please consider using SQLAlchemy.\n",
      "  pd.read_sql(q6,conn)\n"
     ]
    },
    {
     "data": {
      "application/vnd.microsoft.datawrangler.viewer.v0+json": {
       "columns": [
        {
         "name": "index",
         "rawType": "int64",
         "type": "integer"
        },
        {
         "name": "isFraud",
         "rawType": "int64",
         "type": "integer"
        },
        {
         "name": "avg_balance_change",
         "rawType": "float64",
         "type": "float"
        }
       ],
       "conversionMethod": "pd.DataFrame",
       "ref": "fcd627b2-43b4-4b98-9b23-1af8d50ae57e",
       "rows": [
        [
         "0",
         "0",
         "123504.80999378188"
        ],
        [
         "1",
         "1",
         "735457.9980713509"
        ]
       ],
       "shape": {
        "columns": 2,
        "rows": 2
       }
      },
      "text/html": [
       "<div>\n",
       "<style scoped>\n",
       "    .dataframe tbody tr th:only-of-type {\n",
       "        vertical-align: middle;\n",
       "    }\n",
       "\n",
       "    .dataframe tbody tr th {\n",
       "        vertical-align: top;\n",
       "    }\n",
       "\n",
       "    .dataframe thead th {\n",
       "        text-align: right;\n",
       "    }\n",
       "</style>\n",
       "<table border=\"1\" class=\"dataframe\">\n",
       "  <thead>\n",
       "    <tr style=\"text-align: right;\">\n",
       "      <th></th>\n",
       "      <th>isFraud</th>\n",
       "      <th>avg_balance_change</th>\n",
       "    </tr>\n",
       "  </thead>\n",
       "  <tbody>\n",
       "    <tr>\n",
       "      <th>0</th>\n",
       "      <td>0</td>\n",
       "      <td>123504.809994</td>\n",
       "    </tr>\n",
       "    <tr>\n",
       "      <th>1</th>\n",
       "      <td>1</td>\n",
       "      <td>735457.998071</td>\n",
       "    </tr>\n",
       "  </tbody>\n",
       "</table>\n",
       "</div>"
      ],
      "text/plain": [
       "   isFraud  avg_balance_change\n",
       "0        0       123504.809994\n",
       "1        1       735457.998071"
      ]
     },
     "execution_count": 72,
     "metadata": {},
     "output_type": "execute_result"
    }
   ],
   "source": [
    "q6 = '''SELECT \"isFraud\", AVG(\"newbalanceDest\" - \"oldbalanceDest\") as avg_balance_change\n",
    "FROM transactions\n",
    "GROUP BY \"isFraud\";'''\n",
    "pd.read_sql(q6,conn)"
   ]
  },
  {
   "cell_type": "markdown",
   "metadata": {},
   "source": [
    "Исходя из таблицы видно, что у мошеннических транзакций баланс в среднем увеличивается на 735 458, а у обычных на 123 504.\n",
    "Гипотеза о корреляции между мошенническими транзакциями и балансом получателся подтверждается\n",
    "\n",
    "Рекомендации:\n",
    "Создать черный список получателей, чтобы при посылке на счет получателя из списка, операция автоматически отклонялась. "
   ]
  },
  {
   "cell_type": "markdown",
   "metadata": {},
   "source": [
    "фактор риска-большие суммы и обнуление баланса\n",
    "признаки мошеничества"
   ]
  },
  {
   "cell_type": "code",
   "execution_count": 76,
   "metadata": {},
   "outputs": [
    {
     "name": "stderr",
     "output_type": "stream",
     "text": [
      "C:\\Users\\Арина Алексеевна\\AppData\\Local\\Temp\\ipykernel_15060\\2773094942.py:7: UserWarning: pandas only supports SQLAlchemy connectable (engine/connection) or database string URI or sqlite3 DBAPI2 connection. Other DBAPI2 objects are not tested. Please consider using SQLAlchemy.\n",
      "  suspicious = pd.read_sql(query6, conn)\n"
     ]
    },
    {
     "name": "stdout",
     "output_type": "stream",
     "text": [
      "Подозрительных транзакций: 295848\n",
      "   step      type      amount     nameOrig  oldbalanceOrg  newbalanceOrig  \\\n",
      "0     1  TRANSFER  1505626.01   C926859124            0.0             0.0   \n",
      "1     1  TRANSFER   554026.99  C1603696865            0.0             0.0   \n",
      "2     1  TRANSFER   761507.39   C412788346            0.0             0.0   \n",
      "3     1  TRANSFER  1429051.47  C1520267010            0.0             0.0   \n",
      "4     1  TRANSFER   583848.46  C1839168128            0.0             0.0   \n",
      "\n",
      "      nameDest  oldbalanceDest  newbalanceDest  isFraud  isFlaggedFraud  \n",
      "0   C665576141        29031.00      5515763.34        0               0  \n",
      "1   C766572210       579285.56            0.00        0               0  \n",
      "2  C1590550415      1280036.23     19169204.93        0               0  \n",
      "3  C1590550415      2041543.62     19169204.93        0               0  \n",
      "4  C1286084959       667778.00      2107778.11        0               0  \n"
     ]
    }
   ],
   "source": [
    "query6 = \"\"\"\n",
    "SELECT *\n",
    "FROM transactions\n",
    "WHERE amount > (SELECT PERCENTILE_CONT(0.95) WITHIN GROUP (ORDER BY amount) FROM transactions)\n",
    "AND \"newbalanceOrig\" = 0;\n",
    "\"\"\"\n",
    "suspicious = pd.read_sql(query6, conn)\n",
    "print(f\"Подозрительных транзакций: {len(suspicious)}\")\n",
    "print(suspicious.head())"
   ]
  },
  {
   "cell_type": "code",
   "execution_count": 79,
   "metadata": {},
   "outputs": [
    {
     "name": "stderr",
     "output_type": "stream",
     "text": [
      "C:\\Users\\Арина Алексеевна\\AppData\\Local\\Temp\\ipykernel_15060\\2163177986.py:7: UserWarning: pandas only supports SQLAlchemy connectable (engine/connection) or database string URI or sqlite3 DBAPI2 connection. Other DBAPI2 objects are not tested. Please consider using SQLAlchemy.\n",
      "  pd.read_sql(q7,conn)\n"
     ]
    },
    {
     "data": {
      "application/vnd.microsoft.datawrangler.viewer.v0+json": {
       "columns": [
        {
         "name": "index",
         "rawType": "int64",
         "type": "integer"
        },
        {
         "name": "nameOrig",
         "rawType": "object",
         "type": "string"
        },
        {
         "name": "total_transfer_amount",
         "rawType": "float64",
         "type": "float"
        }
       ],
       "conversionMethod": "pd.DataFrame",
       "ref": "8a852e76-a77a-4cb6-b204-fe9df2f79340",
       "rows": [
        [
         "0",
         "C1715283297",
         "92445516.64"
        ],
        [
         "1",
         "C2127282686",
         "73823490.36"
        ],
        [
         "2",
         "C2044643633",
         "71172480.42"
        ],
        [
         "3",
         "C1425667947",
         "69886731.3"
        ],
        [
         "4",
         "C1584456031",
         "69337316.27"
        ],
        [
         "5",
         "C811810230",
         "67500761.29"
        ],
        [
         "6",
         "C420748282",
         "66761272.21"
        ],
        [
         "7",
         "C1139847449",
         "64234448.19"
        ],
        [
         "8",
         "C300140823",
         "63847992.58"
        ],
        [
         "9",
         "C372535854",
         "63294839.63"
        ],
        [
         "10",
         "C1539737626",
         "62785416.91"
        ],
        [
         "11",
         "C915403211",
         "61733761.65"
        ],
        [
         "12",
         "C453740720",
         "60965275.64"
        ],
        [
         "13",
         "C68968235",
         "60642003.0"
        ],
        [
         "14",
         "C31593462",
         "60154456.05"
        ],
        [
         "15",
         "C1273768806",
         "59579503.33"
        ],
        [
         "16",
         "C24299338",
         "58944752.64"
        ],
        [
         "17",
         "C1423766399",
         "58318373.2"
        ],
        [
         "18",
         "C208486812",
         "57787800.93"
        ],
        [
         "19",
         "C1139460122",
         "57436619.46"
        ],
        [
         "20",
         "C1621759239",
         "57229615.71"
        ],
        [
         "21",
         "C256698564",
         "56951424.46"
        ],
        [
         "22",
         "C1845534968",
         "56808983.21"
        ],
        [
         "23",
         "C2043083172",
         "56654831.14"
        ],
        [
         "24",
         "C50811564",
         "56254995.44"
        ],
        [
         "25",
         "C1293276010",
         "55607114.09"
        ],
        [
         "26",
         "C1680772125",
         "55129569.83"
        ],
        [
         "27",
         "C173148914",
         "54561579.68"
        ],
        [
         "28",
         "C1440084225",
         "53957543.97"
        ],
        [
         "29",
         "C140591783",
         "53920358.88"
        ],
        [
         "30",
         "C1960608501",
         "53851053.08"
        ],
        [
         "31",
         "C1937630471",
         "53735587.33"
        ],
        [
         "32",
         "C1408116717",
         "53670510.99"
        ],
        [
         "33",
         "C1163102205",
         "53653616.57"
        ],
        [
         "34",
         "C2120801782",
         "53612432.52"
        ],
        [
         "35",
         "C1223028177",
         "52042803.47"
        ],
        [
         "36",
         "C2144929087",
         "51990860.85"
        ],
        [
         "37",
         "C6333741",
         "51729490.03"
        ],
        [
         "38",
         "C515250662",
         "51683728.91"
        ],
        [
         "39",
         "C2094706712",
         "51496952.25"
        ],
        [
         "40",
         "C893113779",
         "51391814.47"
        ],
        [
         "41",
         "C962484785",
         "51324118.36"
        ],
        [
         "42",
         "C1483754162",
         "51141938.17"
        ],
        [
         "43",
         "C988219650",
         "51103331.91"
        ],
        [
         "44",
         "C1942982352",
         "50723281.59"
        ],
        [
         "45",
         "C1043576460",
         "50556773.92"
        ],
        [
         "46",
         "C1092148827",
         "50284915.57"
        ],
        [
         "47",
         "C1260344462",
         "49866234.71"
        ],
        [
         "48",
         "C821543017",
         "49580968.52"
        ],
        [
         "49",
         "C1585432592",
         "49522819.36"
        ]
       ],
       "shape": {
        "columns": 2,
        "rows": 100
       }
      },
      "text/html": [
       "<div>\n",
       "<style scoped>\n",
       "    .dataframe tbody tr th:only-of-type {\n",
       "        vertical-align: middle;\n",
       "    }\n",
       "\n",
       "    .dataframe tbody tr th {\n",
       "        vertical-align: top;\n",
       "    }\n",
       "\n",
       "    .dataframe thead th {\n",
       "        text-align: right;\n",
       "    }\n",
       "</style>\n",
       "<table border=\"1\" class=\"dataframe\">\n",
       "  <thead>\n",
       "    <tr style=\"text-align: right;\">\n",
       "      <th></th>\n",
       "      <th>nameOrig</th>\n",
       "      <th>total_transfer_amount</th>\n",
       "    </tr>\n",
       "  </thead>\n",
       "  <tbody>\n",
       "    <tr>\n",
       "      <th>0</th>\n",
       "      <td>C1715283297</td>\n",
       "      <td>92445516.64</td>\n",
       "    </tr>\n",
       "    <tr>\n",
       "      <th>1</th>\n",
       "      <td>C2127282686</td>\n",
       "      <td>73823490.36</td>\n",
       "    </tr>\n",
       "    <tr>\n",
       "      <th>2</th>\n",
       "      <td>C2044643633</td>\n",
       "      <td>71172480.42</td>\n",
       "    </tr>\n",
       "    <tr>\n",
       "      <th>3</th>\n",
       "      <td>C1425667947</td>\n",
       "      <td>69886731.30</td>\n",
       "    </tr>\n",
       "    <tr>\n",
       "      <th>4</th>\n",
       "      <td>C1584456031</td>\n",
       "      <td>69337316.27</td>\n",
       "    </tr>\n",
       "    <tr>\n",
       "      <th>...</th>\n",
       "      <td>...</td>\n",
       "      <td>...</td>\n",
       "    </tr>\n",
       "    <tr>\n",
       "      <th>95</th>\n",
       "      <td>C1835360608</td>\n",
       "      <td>42183808.56</td>\n",
       "    </tr>\n",
       "    <tr>\n",
       "      <th>96</th>\n",
       "      <td>C55478598</td>\n",
       "      <td>41988600.77</td>\n",
       "    </tr>\n",
       "    <tr>\n",
       "      <th>97</th>\n",
       "      <td>C1237771660</td>\n",
       "      <td>41963708.15</td>\n",
       "    </tr>\n",
       "    <tr>\n",
       "      <th>98</th>\n",
       "      <td>C1011191693</td>\n",
       "      <td>41818052.20</td>\n",
       "    </tr>\n",
       "    <tr>\n",
       "      <th>99</th>\n",
       "      <td>C1327783656</td>\n",
       "      <td>41781250.27</td>\n",
       "    </tr>\n",
       "  </tbody>\n",
       "</table>\n",
       "<p>100 rows × 2 columns</p>\n",
       "</div>"
      ],
      "text/plain": [
       "       nameOrig  total_transfer_amount\n",
       "0   C1715283297            92445516.64\n",
       "1   C2127282686            73823490.36\n",
       "2   C2044643633            71172480.42\n",
       "3   C1425667947            69886731.30\n",
       "4   C1584456031            69337316.27\n",
       "..          ...                    ...\n",
       "95  C1835360608            42183808.56\n",
       "96    C55478598            41988600.77\n",
       "97  C1237771660            41963708.15\n",
       "98  C1011191693            41818052.20\n",
       "99  C1327783656            41781250.27\n",
       "\n",
       "[100 rows x 2 columns]"
      ]
     },
     "execution_count": 79,
     "metadata": {},
     "output_type": "execute_result"
    }
   ],
   "source": [
    "q7='''SELECT \"nameOrig\", SUM(amount) as total_transfer_amount\n",
    "FROM transactions\n",
    "WHERE type = 'TRANSFER'\n",
    "GROUP BY \"nameOrig\"\n",
    "ORDER BY total_transfer_amount DESC\n",
    "LIMIT 100;'''\n",
    "pd.read_sql(q7,conn)"
   ]
  },
  {
   "cell_type": "markdown",
   "metadata": {},
   "source": [
    "445млрд - общая сумма по TRANSFER\n",
    "В топ 100 переводят около 20% от общей суммы \n",
    "\n",
    "Рекомендации:\n",
    "Предложить этим клиентам премиум-счета с льготными условиями (комиссия 0.5% вместо 1% и персональный менеджер)."
   ]
  },
  {
   "cell_type": "markdown",
   "metadata": {},
   "source": [
    "Обучение модели предсказания мошеничества. Для определния того, является ли тип транзакции потенциально мошеничественным на основе характеристик транзакции (isFraud)\n",
    "\n",
    "Результаты будут полезны для автоматизации блокировки подозрительных транзакций; оптимизации работы службы безопасности"
   ]
  },
  {
   "cell_type": "code",
   "execution_count": 88,
   "metadata": {},
   "outputs": [],
   "source": [
    "from sklearn.model_selection import train_test_split\n",
    "from sklearn.preprocessing import LabelEncoder\n",
    "from sklearn.ensemble import RandomForestClassifier\n",
    "from sklearn.metrics import classification_report, roc_auc_score\n",
    "from imblearn.over_sampling import SMOTE\n",
    "\n",
    "# Создание производных признаков\n",
    "df['balance_change_orig'] = df['oldbalanceOrg'] - df['newbalanceOrig']\n",
    "df['balance_change_dest'] = df['newbalanceDest'] - df['oldbalanceDest']\n",
    "df['is_zero_balance_orig'] = (df['newbalanceOrig'] == 0).astype(int)\n",
    "\n",
    "# Кодировка категориальных признаков type\n",
    "label_encoder = LabelEncoder()\n",
    "df['type_encoded'] = label_encoder.fit_transform(df['type'])\n",
    "\n",
    "# Выбирка признаков и целевой переменной\n",
    "features = ['type_encoded', 'amount', 'oldbalanceOrg', 'newbalanceOrig', \n",
    "            'oldbalanceDest', 'newbalanceDest', 'step', \n",
    "            'balance_change_orig', 'balance_change_dest', 'is_zero_balance_orig']\n",
    "X = df[features]\n",
    "y = df['isFraud']\n",
    "\n",
    "#сокращение размера выборки для экономии памяти\n",
    "subset_size = 0.1\n",
    "X_subset, _, y_subset, _ = train_test_split(X, y, train_size=subset_size, random_state=42, stratify=y)\n",
    "\n",
    "# Разделяем подмножество на обучающую и тестовую выборки\n",
    "X_train, X_test, y_train, y_test = train_test_split(X_subset, y_subset, test_size=0.2, random_state=42, stratify=y_subset)"
   ]
  },
  {
   "cell_type": "code",
   "execution_count": null,
   "metadata": {},
   "outputs": [
    {
     "name": "stderr",
     "output_type": "stream",
     "text": [
      "c:\\Anaconde\\Lib\\site-packages\\sklearn\\base.py:474: FutureWarning: `BaseEstimator._validate_data` is deprecated in 1.6 and will be removed in 1.7. Use `sklearn.utils.validation.validate_data` instead. This function becomes public and is part of the scikit-learn developer API.\n",
      "  warnings.warn(\n"
     ]
    }
   ],
   "source": [
    "# Применение SMOTE с частичной балансировкой\n",
    "smote = SMOTE(sampling_strategy=0.1, random_state=42)\n",
    "X_train_balanced, y_train_balanced = smote.fit_resample(X_train, y_train)"
   ]
  },
  {
   "cell_type": "markdown",
   "metadata": {},
   "source": [
    "Данные необходимо было сбалансировать, так как мошенических транзакций меньшество и модель склонялась бы к классу обычных транзакций.\n",
    "Размер обучаюшей выборки значительно сократился, что важно для сокарщения времени для обучения модели."
   ]
  },
  {
   "cell_type": "code",
   "execution_count": null,
   "metadata": {},
   "outputs": [
    {
     "data": {
      "text/html": [
       "<style>#sk-container-id-1 {\n",
       "  /* Definition of color scheme common for light and dark mode */\n",
       "  --sklearn-color-text: #000;\n",
       "  --sklearn-color-text-muted: #666;\n",
       "  --sklearn-color-line: gray;\n",
       "  /* Definition of color scheme for unfitted estimators */\n",
       "  --sklearn-color-unfitted-level-0: #fff5e6;\n",
       "  --sklearn-color-unfitted-level-1: #f6e4d2;\n",
       "  --sklearn-color-unfitted-level-2: #ffe0b3;\n",
       "  --sklearn-color-unfitted-level-3: chocolate;\n",
       "  /* Definition of color scheme for fitted estimators */\n",
       "  --sklearn-color-fitted-level-0: #f0f8ff;\n",
       "  --sklearn-color-fitted-level-1: #d4ebff;\n",
       "  --sklearn-color-fitted-level-2: #b3dbfd;\n",
       "  --sklearn-color-fitted-level-3: cornflowerblue;\n",
       "\n",
       "  /* Specific color for light theme */\n",
       "  --sklearn-color-text-on-default-background: var(--sg-text-color, var(--theme-code-foreground, var(--jp-content-font-color1, black)));\n",
       "  --sklearn-color-background: var(--sg-background-color, var(--theme-background, var(--jp-layout-color0, white)));\n",
       "  --sklearn-color-border-box: var(--sg-text-color, var(--theme-code-foreground, var(--jp-content-font-color1, black)));\n",
       "  --sklearn-color-icon: #696969;\n",
       "\n",
       "  @media (prefers-color-scheme: dark) {\n",
       "    /* Redefinition of color scheme for dark theme */\n",
       "    --sklearn-color-text-on-default-background: var(--sg-text-color, var(--theme-code-foreground, var(--jp-content-font-color1, white)));\n",
       "    --sklearn-color-background: var(--sg-background-color, var(--theme-background, var(--jp-layout-color0, #111)));\n",
       "    --sklearn-color-border-box: var(--sg-text-color, var(--theme-code-foreground, var(--jp-content-font-color1, white)));\n",
       "    --sklearn-color-icon: #878787;\n",
       "  }\n",
       "}\n",
       "\n",
       "#sk-container-id-1 {\n",
       "  color: var(--sklearn-color-text);\n",
       "}\n",
       "\n",
       "#sk-container-id-1 pre {\n",
       "  padding: 0;\n",
       "}\n",
       "\n",
       "#sk-container-id-1 input.sk-hidden--visually {\n",
       "  border: 0;\n",
       "  clip: rect(1px 1px 1px 1px);\n",
       "  clip: rect(1px, 1px, 1px, 1px);\n",
       "  height: 1px;\n",
       "  margin: -1px;\n",
       "  overflow: hidden;\n",
       "  padding: 0;\n",
       "  position: absolute;\n",
       "  width: 1px;\n",
       "}\n",
       "\n",
       "#sk-container-id-1 div.sk-dashed-wrapped {\n",
       "  border: 1px dashed var(--sklearn-color-line);\n",
       "  margin: 0 0.4em 0.5em 0.4em;\n",
       "  box-sizing: border-box;\n",
       "  padding-bottom: 0.4em;\n",
       "  background-color: var(--sklearn-color-background);\n",
       "}\n",
       "\n",
       "#sk-container-id-1 div.sk-container {\n",
       "  /* jupyter's `normalize.less` sets `[hidden] { display: none; }`\n",
       "     but bootstrap.min.css set `[hidden] { display: none !important; }`\n",
       "     so we also need the `!important` here to be able to override the\n",
       "     default hidden behavior on the sphinx rendered scikit-learn.org.\n",
       "     See: https://github.com/scikit-learn/scikit-learn/issues/21755 */\n",
       "  display: inline-block !important;\n",
       "  position: relative;\n",
       "}\n",
       "\n",
       "#sk-container-id-1 div.sk-text-repr-fallback {\n",
       "  display: none;\n",
       "}\n",
       "\n",
       "div.sk-parallel-item,\n",
       "div.sk-serial,\n",
       "div.sk-item {\n",
       "  /* draw centered vertical line to link estimators */\n",
       "  background-image: linear-gradient(var(--sklearn-color-text-on-default-background), var(--sklearn-color-text-on-default-background));\n",
       "  background-size: 2px 100%;\n",
       "  background-repeat: no-repeat;\n",
       "  background-position: center center;\n",
       "}\n",
       "\n",
       "/* Parallel-specific style estimator block */\n",
       "\n",
       "#sk-container-id-1 div.sk-parallel-item::after {\n",
       "  content: \"\";\n",
       "  width: 100%;\n",
       "  border-bottom: 2px solid var(--sklearn-color-text-on-default-background);\n",
       "  flex-grow: 1;\n",
       "}\n",
       "\n",
       "#sk-container-id-1 div.sk-parallel {\n",
       "  display: flex;\n",
       "  align-items: stretch;\n",
       "  justify-content: center;\n",
       "  background-color: var(--sklearn-color-background);\n",
       "  position: relative;\n",
       "}\n",
       "\n",
       "#sk-container-id-1 div.sk-parallel-item {\n",
       "  display: flex;\n",
       "  flex-direction: column;\n",
       "}\n",
       "\n",
       "#sk-container-id-1 div.sk-parallel-item:first-child::after {\n",
       "  align-self: flex-end;\n",
       "  width: 50%;\n",
       "}\n",
       "\n",
       "#sk-container-id-1 div.sk-parallel-item:last-child::after {\n",
       "  align-self: flex-start;\n",
       "  width: 50%;\n",
       "}\n",
       "\n",
       "#sk-container-id-1 div.sk-parallel-item:only-child::after {\n",
       "  width: 0;\n",
       "}\n",
       "\n",
       "/* Serial-specific style estimator block */\n",
       "\n",
       "#sk-container-id-1 div.sk-serial {\n",
       "  display: flex;\n",
       "  flex-direction: column;\n",
       "  align-items: center;\n",
       "  background-color: var(--sklearn-color-background);\n",
       "  padding-right: 1em;\n",
       "  padding-left: 1em;\n",
       "}\n",
       "\n",
       "\n",
       "/* Toggleable style: style used for estimator/Pipeline/ColumnTransformer box that is\n",
       "clickable and can be expanded/collapsed.\n",
       "- Pipeline and ColumnTransformer use this feature and define the default style\n",
       "- Estimators will overwrite some part of the style using the `sk-estimator` class\n",
       "*/\n",
       "\n",
       "/* Pipeline and ColumnTransformer style (default) */\n",
       "\n",
       "#sk-container-id-1 div.sk-toggleable {\n",
       "  /* Default theme specific background. It is overwritten whether we have a\n",
       "  specific estimator or a Pipeline/ColumnTransformer */\n",
       "  background-color: var(--sklearn-color-background);\n",
       "}\n",
       "\n",
       "/* Toggleable label */\n",
       "#sk-container-id-1 label.sk-toggleable__label {\n",
       "  cursor: pointer;\n",
       "  display: flex;\n",
       "  width: 100%;\n",
       "  margin-bottom: 0;\n",
       "  padding: 0.5em;\n",
       "  box-sizing: border-box;\n",
       "  text-align: center;\n",
       "  align-items: start;\n",
       "  justify-content: space-between;\n",
       "  gap: 0.5em;\n",
       "}\n",
       "\n",
       "#sk-container-id-1 label.sk-toggleable__label .caption {\n",
       "  font-size: 0.6rem;\n",
       "  font-weight: lighter;\n",
       "  color: var(--sklearn-color-text-muted);\n",
       "}\n",
       "\n",
       "#sk-container-id-1 label.sk-toggleable__label-arrow:before {\n",
       "  /* Arrow on the left of the label */\n",
       "  content: \"▸\";\n",
       "  float: left;\n",
       "  margin-right: 0.25em;\n",
       "  color: var(--sklearn-color-icon);\n",
       "}\n",
       "\n",
       "#sk-container-id-1 label.sk-toggleable__label-arrow:hover:before {\n",
       "  color: var(--sklearn-color-text);\n",
       "}\n",
       "\n",
       "/* Toggleable content - dropdown */\n",
       "\n",
       "#sk-container-id-1 div.sk-toggleable__content {\n",
       "  max-height: 0;\n",
       "  max-width: 0;\n",
       "  overflow: hidden;\n",
       "  text-align: left;\n",
       "  /* unfitted */\n",
       "  background-color: var(--sklearn-color-unfitted-level-0);\n",
       "}\n",
       "\n",
       "#sk-container-id-1 div.sk-toggleable__content.fitted {\n",
       "  /* fitted */\n",
       "  background-color: var(--sklearn-color-fitted-level-0);\n",
       "}\n",
       "\n",
       "#sk-container-id-1 div.sk-toggleable__content pre {\n",
       "  margin: 0.2em;\n",
       "  border-radius: 0.25em;\n",
       "  color: var(--sklearn-color-text);\n",
       "  /* unfitted */\n",
       "  background-color: var(--sklearn-color-unfitted-level-0);\n",
       "}\n",
       "\n",
       "#sk-container-id-1 div.sk-toggleable__content.fitted pre {\n",
       "  /* unfitted */\n",
       "  background-color: var(--sklearn-color-fitted-level-0);\n",
       "}\n",
       "\n",
       "#sk-container-id-1 input.sk-toggleable__control:checked~div.sk-toggleable__content {\n",
       "  /* Expand drop-down */\n",
       "  max-height: 200px;\n",
       "  max-width: 100%;\n",
       "  overflow: auto;\n",
       "}\n",
       "\n",
       "#sk-container-id-1 input.sk-toggleable__control:checked~label.sk-toggleable__label-arrow:before {\n",
       "  content: \"▾\";\n",
       "}\n",
       "\n",
       "/* Pipeline/ColumnTransformer-specific style */\n",
       "\n",
       "#sk-container-id-1 div.sk-label input.sk-toggleable__control:checked~label.sk-toggleable__label {\n",
       "  color: var(--sklearn-color-text);\n",
       "  background-color: var(--sklearn-color-unfitted-level-2);\n",
       "}\n",
       "\n",
       "#sk-container-id-1 div.sk-label.fitted input.sk-toggleable__control:checked~label.sk-toggleable__label {\n",
       "  background-color: var(--sklearn-color-fitted-level-2);\n",
       "}\n",
       "\n",
       "/* Estimator-specific style */\n",
       "\n",
       "/* Colorize estimator box */\n",
       "#sk-container-id-1 div.sk-estimator input.sk-toggleable__control:checked~label.sk-toggleable__label {\n",
       "  /* unfitted */\n",
       "  background-color: var(--sklearn-color-unfitted-level-2);\n",
       "}\n",
       "\n",
       "#sk-container-id-1 div.sk-estimator.fitted input.sk-toggleable__control:checked~label.sk-toggleable__label {\n",
       "  /* fitted */\n",
       "  background-color: var(--sklearn-color-fitted-level-2);\n",
       "}\n",
       "\n",
       "#sk-container-id-1 div.sk-label label.sk-toggleable__label,\n",
       "#sk-container-id-1 div.sk-label label {\n",
       "  /* The background is the default theme color */\n",
       "  color: var(--sklearn-color-text-on-default-background);\n",
       "}\n",
       "\n",
       "/* On hover, darken the color of the background */\n",
       "#sk-container-id-1 div.sk-label:hover label.sk-toggleable__label {\n",
       "  color: var(--sklearn-color-text);\n",
       "  background-color: var(--sklearn-color-unfitted-level-2);\n",
       "}\n",
       "\n",
       "/* Label box, darken color on hover, fitted */\n",
       "#sk-container-id-1 div.sk-label.fitted:hover label.sk-toggleable__label.fitted {\n",
       "  color: var(--sklearn-color-text);\n",
       "  background-color: var(--sklearn-color-fitted-level-2);\n",
       "}\n",
       "\n",
       "/* Estimator label */\n",
       "\n",
       "#sk-container-id-1 div.sk-label label {\n",
       "  font-family: monospace;\n",
       "  font-weight: bold;\n",
       "  display: inline-block;\n",
       "  line-height: 1.2em;\n",
       "}\n",
       "\n",
       "#sk-container-id-1 div.sk-label-container {\n",
       "  text-align: center;\n",
       "}\n",
       "\n",
       "/* Estimator-specific */\n",
       "#sk-container-id-1 div.sk-estimator {\n",
       "  font-family: monospace;\n",
       "  border: 1px dotted var(--sklearn-color-border-box);\n",
       "  border-radius: 0.25em;\n",
       "  box-sizing: border-box;\n",
       "  margin-bottom: 0.5em;\n",
       "  /* unfitted */\n",
       "  background-color: var(--sklearn-color-unfitted-level-0);\n",
       "}\n",
       "\n",
       "#sk-container-id-1 div.sk-estimator.fitted {\n",
       "  /* fitted */\n",
       "  background-color: var(--sklearn-color-fitted-level-0);\n",
       "}\n",
       "\n",
       "/* on hover */\n",
       "#sk-container-id-1 div.sk-estimator:hover {\n",
       "  /* unfitted */\n",
       "  background-color: var(--sklearn-color-unfitted-level-2);\n",
       "}\n",
       "\n",
       "#sk-container-id-1 div.sk-estimator.fitted:hover {\n",
       "  /* fitted */\n",
       "  background-color: var(--sklearn-color-fitted-level-2);\n",
       "}\n",
       "\n",
       "/* Specification for estimator info (e.g. \"i\" and \"?\") */\n",
       "\n",
       "/* Common style for \"i\" and \"?\" */\n",
       "\n",
       ".sk-estimator-doc-link,\n",
       "a:link.sk-estimator-doc-link,\n",
       "a:visited.sk-estimator-doc-link {\n",
       "  float: right;\n",
       "  font-size: smaller;\n",
       "  line-height: 1em;\n",
       "  font-family: monospace;\n",
       "  background-color: var(--sklearn-color-background);\n",
       "  border-radius: 1em;\n",
       "  height: 1em;\n",
       "  width: 1em;\n",
       "  text-decoration: none !important;\n",
       "  margin-left: 0.5em;\n",
       "  text-align: center;\n",
       "  /* unfitted */\n",
       "  border: var(--sklearn-color-unfitted-level-1) 1pt solid;\n",
       "  color: var(--sklearn-color-unfitted-level-1);\n",
       "}\n",
       "\n",
       ".sk-estimator-doc-link.fitted,\n",
       "a:link.sk-estimator-doc-link.fitted,\n",
       "a:visited.sk-estimator-doc-link.fitted {\n",
       "  /* fitted */\n",
       "  border: var(--sklearn-color-fitted-level-1) 1pt solid;\n",
       "  color: var(--sklearn-color-fitted-level-1);\n",
       "}\n",
       "\n",
       "/* On hover */\n",
       "div.sk-estimator:hover .sk-estimator-doc-link:hover,\n",
       ".sk-estimator-doc-link:hover,\n",
       "div.sk-label-container:hover .sk-estimator-doc-link:hover,\n",
       ".sk-estimator-doc-link:hover {\n",
       "  /* unfitted */\n",
       "  background-color: var(--sklearn-color-unfitted-level-3);\n",
       "  color: var(--sklearn-color-background);\n",
       "  text-decoration: none;\n",
       "}\n",
       "\n",
       "div.sk-estimator.fitted:hover .sk-estimator-doc-link.fitted:hover,\n",
       ".sk-estimator-doc-link.fitted:hover,\n",
       "div.sk-label-container:hover .sk-estimator-doc-link.fitted:hover,\n",
       ".sk-estimator-doc-link.fitted:hover {\n",
       "  /* fitted */\n",
       "  background-color: var(--sklearn-color-fitted-level-3);\n",
       "  color: var(--sklearn-color-background);\n",
       "  text-decoration: none;\n",
       "}\n",
       "\n",
       "/* Span, style for the box shown on hovering the info icon */\n",
       ".sk-estimator-doc-link span {\n",
       "  display: none;\n",
       "  z-index: 9999;\n",
       "  position: relative;\n",
       "  font-weight: normal;\n",
       "  right: .2ex;\n",
       "  padding: .5ex;\n",
       "  margin: .5ex;\n",
       "  width: min-content;\n",
       "  min-width: 20ex;\n",
       "  max-width: 50ex;\n",
       "  color: var(--sklearn-color-text);\n",
       "  box-shadow: 2pt 2pt 4pt #999;\n",
       "  /* unfitted */\n",
       "  background: var(--sklearn-color-unfitted-level-0);\n",
       "  border: .5pt solid var(--sklearn-color-unfitted-level-3);\n",
       "}\n",
       "\n",
       ".sk-estimator-doc-link.fitted span {\n",
       "  /* fitted */\n",
       "  background: var(--sklearn-color-fitted-level-0);\n",
       "  border: var(--sklearn-color-fitted-level-3);\n",
       "}\n",
       "\n",
       ".sk-estimator-doc-link:hover span {\n",
       "  display: block;\n",
       "}\n",
       "\n",
       "/* \"?\"-specific style due to the `<a>` HTML tag */\n",
       "\n",
       "#sk-container-id-1 a.estimator_doc_link {\n",
       "  float: right;\n",
       "  font-size: 1rem;\n",
       "  line-height: 1em;\n",
       "  font-family: monospace;\n",
       "  background-color: var(--sklearn-color-background);\n",
       "  border-radius: 1rem;\n",
       "  height: 1rem;\n",
       "  width: 1rem;\n",
       "  text-decoration: none;\n",
       "  /* unfitted */\n",
       "  color: var(--sklearn-color-unfitted-level-1);\n",
       "  border: var(--sklearn-color-unfitted-level-1) 1pt solid;\n",
       "}\n",
       "\n",
       "#sk-container-id-1 a.estimator_doc_link.fitted {\n",
       "  /* fitted */\n",
       "  border: var(--sklearn-color-fitted-level-1) 1pt solid;\n",
       "  color: var(--sklearn-color-fitted-level-1);\n",
       "}\n",
       "\n",
       "/* On hover */\n",
       "#sk-container-id-1 a.estimator_doc_link:hover {\n",
       "  /* unfitted */\n",
       "  background-color: var(--sklearn-color-unfitted-level-3);\n",
       "  color: var(--sklearn-color-background);\n",
       "  text-decoration: none;\n",
       "}\n",
       "\n",
       "#sk-container-id-1 a.estimator_doc_link.fitted:hover {\n",
       "  /* fitted */\n",
       "  background-color: var(--sklearn-color-fitted-level-3);\n",
       "}\n",
       "</style><div id=\"sk-container-id-1\" class=\"sk-top-container\"><div class=\"sk-text-repr-fallback\"><pre>RandomForestClassifier(n_jobs=-1, random_state=42)</pre><b>In a Jupyter environment, please rerun this cell to show the HTML representation or trust the notebook. <br />On GitHub, the HTML representation is unable to render, please try loading this page with nbviewer.org.</b></div><div class=\"sk-container\" hidden><div class=\"sk-item\"><div class=\"sk-estimator fitted sk-toggleable\"><input class=\"sk-toggleable__control sk-hidden--visually\" id=\"sk-estimator-id-1\" type=\"checkbox\" checked><label for=\"sk-estimator-id-1\" class=\"sk-toggleable__label fitted sk-toggleable__label-arrow\"><div><div>RandomForestClassifier</div></div><div><a class=\"sk-estimator-doc-link fitted\" rel=\"noreferrer\" target=\"_blank\" href=\"https://scikit-learn.org/1.6/modules/generated/sklearn.ensemble.RandomForestClassifier.html\">?<span>Documentation for RandomForestClassifier</span></a><span class=\"sk-estimator-doc-link fitted\">i<span>Fitted</span></span></div></label><div class=\"sk-toggleable__content fitted\"><pre>RandomForestClassifier(n_jobs=-1, random_state=42)</pre></div> </div></div></div></div>"
      ],
      "text/plain": [
       "RandomForestClassifier(n_jobs=-1, random_state=42)"
      ]
     },
     "execution_count": 90,
     "metadata": {},
     "output_type": "execute_result"
    }
   ],
   "source": [
    "# Обучение модели\n",
    "rf_model = RandomForestClassifier(n_estimators=100, random_state=42, n_jobs=-1)\n",
    "rf_model.fit(X_train_balanced, y_train_balanced)"
   ]
  },
  {
   "cell_type": "code",
   "execution_count": null,
   "metadata": {},
   "outputs": [],
   "source": [
    "# Предсказания на тестовой выборке\n",
    "y_pred = rf_model.predict(X_test)\n",
    "y_pred_proba = rf_model.predict_proba(X_test)[:, 1]"
   ]
  },
  {
   "cell_type": "code",
   "execution_count": 92,
   "metadata": {},
   "outputs": [
    {
     "name": "stdout",
     "output_type": "stream",
     "text": [
      "              precision    recall  f1-score   support\n",
      "\n",
      "           0       1.00      1.00      1.00    127089\n",
      "           1       0.65      0.91      0.76       164\n",
      "\n",
      "    accuracy                           1.00    127253\n",
      "   macro avg       0.83      0.95      0.88    127253\n",
      "weighted avg       1.00      1.00      1.00    127253\n",
      "\n",
      "ROC-AUC: 0.9998\n"
     ]
    }
   ],
   "source": [
    "# Оценка\n",
    "print(classification_report(y_test, y_pred))\n",
    "\n",
    "# ROC-AUC\n",
    "roc_auc = roc_auc_score(y_test, y_pred_proba)\n",
    "print(f\"ROC-AUC: {roc_auc:.4f}\")"
   ]
  },
  {
   "cell_type": "markdown",
   "metadata": {},
   "source": [
    "Оценка эффективности модели (ROC-AUC) составляет 98%, что свидетельствует о высокой оценке качества обученния модели\n",
    "\n",
    "Precision - точность. 100% транзакций, который модель классифицировала, как немощеннические (0) - правда немошенические. Высокий процент предсказуем, так как преимущественное количество транзакций-немошенические\n",
    "Тоже самое с мошеническими(1) - которые составляюи 65%.\n",
    "\n",
    "Recall - доля истинно положительных. Модель нашла 100% немошенических транзакций, что является отличным результатом.\n",
    "Модель нашла 91% мошенических транзакций, что является удовлетворительным результатом, но пропуски мошенических транзакций могут принести банку убытки.\n",
    "\n",
    "f1-score - гармоническое среднее.\n",
    "Немошенические - 100%, так как Recall и precision 100%, значит модель хорошо находит немошенческие транзакции.\n",
    "Мошенические показатели - 76%, что говорит о том,что хорошо находит мошеннические транзакции, но делает ошибки, помечая немошеннические транзакции как мошеннические.\n",
    "\n",
    "Support\n",
    "Немошенические(0) в количестве 127 089 в заданном наборе\n",
    "Мошенические(1) в количестве 164\n",
    "\n",
    "Accuracy(точность модели) - 100%\n",
    "\n",
    "Macro avg - Средние значения метрик без учета веса классов.\n",
    "Модель хорошо справляется с precision = 83%, recall = 95%, f1-score = 88%\n",
    "\n",
    "Weighted avg - Средние значения с учетом веса классов\n",
    "Высокие показатели могут быть обусловлены преимуществыенным классом немошеннических(0)"
   ]
  },
  {
   "cell_type": "code",
   "execution_count": 93,
   "metadata": {},
   "outputs": [
    {
     "data": {
      "image/png": "[encoded data removed]",
      "text/plain": [
       "<Figure size 1000x600 with 1 Axes>"
      ]
     },
     "metadata": {},
     "output_type": "display_data"
    }
   ],
   "source": [
    "feature_importance = pd.DataFrame({\n",
    "    'feature': features,\n",
    "    'importance': rf_model.feature_importances_\n",
    "}).sort_values(by='importance', ascending=False)\n",
    "\n",
    "# Визуализация\n",
    "plt.figure(figsize=(10, 6))\n",
    "sns.barplot(x='importance', y='feature', data=feature_importance)\n",
    "plt.title('Важность признаков в модели Random Forest')\n",
    "plt.xlabel('Важность')\n",
    "plt.ylabel('Признак')\n",
    "plt.show()"
   ]
  },
  {
   "cell_type": "markdown",
   "metadata": {},
   "source": [
    "На основе визуализации, balance_change_orig играет ключевую роль в определении мошеннических транзакций,это означает, что он лучше всего коррелирует с целевой переменной isFraud.\n",
    "\n",
    "balance_change_orig напрямую отражает обнуление баланса после перевода: если баланс обнуляется, то balance_change_orig равно oldbalanceOrg, что часто является большим значением для мошеннических транзакций.\n",
    "\n",
    "Для немошеннических транзакций balance_change_orig обычно меньше, так как клиенты редко обнуляют баланс. Модель видит эту разницу и использует balance_change_orig как ключевой индикатор.\n",
    "\n",
    "\n",
    "Также модель определила ключевой показатель - amount (сумма транзакции), это значит, что размер транзакции сильно влияет на вероятность мошенничества"
   ]
  },
  {
   "cell_type": "markdown",
   "metadata": {},
   "source": [
    "# ВЫВОД"
   ]
  },
  {
   "cell_type": "markdown",
   "metadata": {},
   "source": [
    "Данный анализ дает банку инструменты для повышения безопасности, оптимизации процессов и улучшения клиентского опыта"
   ]
  },
  {
   "cell_type": "markdown",
   "metadata": {},
   "source": [
    "В рамках анализа транзакций банка с использованием датасета Paysim (6.3 млн транзакций) был проведен комплексный анализ для выявления мошенничества и оптимизации процессов.\n",
    "\n",
    "Основные выводы:\n",
    "\n",
    "- **Поведение клиентов**: \n",
    "`CASH_OUT` (35%) и `PAYMENT` (34%) — самые частые типы транзакций, что указывает на высокий спрос на наличные и безналичные платежи. \n",
    "`DEBIT` (0.65%) — самый редкий, но наиболее безопасный тип (0% мошеничества), что открывает возможности для стимулирования автоплатежей с кэшбэком, увеличивая обороты на млны.\n",
    "- **Мошенничество**: \n",
    "100% мошеннических транзакций  — это `TRANSFER` (63%) и `CASH_OUT` (37%), с крупными суммами (1млн) и обнулением баланса (80% случаев). Пиковая активность мошеничества — в шаги 300–500 (ночное время).\n",
    "- **Модель предсказания**: \n",
    "Построена модель Random Forest, которая находит 91% мошеннических транзакций. \n",
    "Ключевые признаки: `balance_change_orig` (важность 0.38) и `amount` (0.11). \n",
    "\tМодель можно интегрировать в систему банка для автоматического мониторинга транзакций в реальном времени, исходя из высоких статистических показателей оценки эффективности модели. \n",
    "- **Рекомендации**: \n",
    "Усилить мониторинг `TRANSFER` и `CASH_OUT` с `balance_change_orig >= 1 млн`, внедрить модель в реальном времени, стимулировать безналичные платежи и автосписания через `DEBIT`. Это позволит снизить убытки от мошенничества на 80% и улучшить клиентский опыт."
   ]
  }
 ],
 "metadata": {
  "kernelspec": {
   "display_name": "base",
   "language": "python",
   "name": "python3"
  },
  "language_info": {
   "codemirror_mode": {
    "name": "ipython",
    "version": 3
   },
   "file_extension": ".py",
   "mimetype": "text/x-python",
   "name": "python",
   "nbconvert_exporter": "python",
   "pygments_lexer": "ipython3",
   "version": "3.12.9"
  }
 },
 "nbformat": 4,
 "nbformat_minor": 2
}
